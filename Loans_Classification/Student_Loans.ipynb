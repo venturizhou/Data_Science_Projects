{
 "nbformat": 4,
 "nbformat_minor": 2,
 "metadata": {
  "language_info": {
   "name": "python",
   "codemirror_mode": {
    "name": "ipython",
    "version": 3
   },
   "version": "3.7.6-final"
  },
  "orig_nbformat": 2,
  "file_extension": ".py",
  "mimetype": "text/x-python",
  "name": "python",
  "npconvert_exporter": "python",
  "pygments_lexer": "ipython3",
  "version": 3,
  "kernelspec": {
   "name": "python3",
   "display_name": "Python 3"
  }
 },
 "cells": [
  {
   "cell_type": "code",
   "execution_count": 297,
   "metadata": {},
   "outputs": [],
   "source": [
    "import pandas as pd\n",
    "import numpy as np\n",
    "import sklearn\n",
    "from sklearn import linear_model"
   ]
  },
  {
   "cell_type": "code",
   "execution_count": 298,
   "metadata": {},
   "outputs": [],
   "source": [
    "df = pd.read_csv('C:\\\\Users\\\\ventu\\\\Python Projects\\\\Student Loats\\\\Portfolio-by-Location.csv',header=5)"
   ]
  },
  {
   "cell_type": "code",
   "execution_count": 299,
   "metadata": {},
   "outputs": [],
   "source": [
    "df = df.dropna(how='all',axis='columns')\n",
    "df = df.dropna()"
   ]
  },
  {
   "cell_type": "code",
   "execution_count": 300,
   "metadata": {},
   "outputs": [
    {
     "data": {
      "text/html": "<div>\n<style scoped>\n    .dataframe tbody tr th:only-of-type {\n        vertical-align: middle;\n    }\n\n    .dataframe tbody tr th {\n        vertical-align: top;\n    }\n\n    .dataframe thead th {\n        text-align: right;\n    }\n</style>\n<table border=\"1\" class=\"dataframe\">\n  <thead>\n    <tr style=\"text-align: right;\">\n      <th></th>\n      <th>Location</th>\n      <th>Balance(in billions)</th>\n      <th>Borrowers(in thousands)</th>\n    </tr>\n  </thead>\n  <tbody>\n    <tr>\n      <th>0</th>\n      <td>Alabama</td>\n      <td>21.5</td>\n      <td>600.3</td>\n    </tr>\n    <tr>\n      <th>1</th>\n      <td>Alaska</td>\n      <td>2.2</td>\n      <td>66.2</td>\n    </tr>\n    <tr>\n      <th>2</th>\n      <td>Arizona</td>\n      <td>28.5</td>\n      <td>836.6</td>\n    </tr>\n    <tr>\n      <th>3</th>\n      <td>Arkansas</td>\n      <td>11.9</td>\n      <td>368.7</td>\n    </tr>\n    <tr>\n      <th>4</th>\n      <td>California</td>\n      <td>135.0</td>\n      <td>3834.5</td>\n    </tr>\n  </tbody>\n</table>\n</div>",
      "text/plain": "     Location Balance(in billions) Borrowers(in thousands)\n0     Alabama                 21.5                  600.3 \n1      Alaska                  2.2                   66.2 \n2     Arizona                 28.5                  836.6 \n3    Arkansas                 11.9                  368.7 \n4  California                135.0                 3834.5 "
     },
     "execution_count": 300,
     "metadata": {},
     "output_type": "execute_result"
    }
   ],
   "source": [
    "df['Balance(in billions)'] = df[\"Balance(in billions)\"].map(lambda str: str.lstrip('$'))\n",
    "df['Borrowers(in thousands)'] = df['Borrowers(in thousands)'].map(lambda str: str.replace(',',''))\n",
    "df.head()"
   ]
  },
  {
   "cell_type": "code",
   "execution_count": 301,
   "metadata": {},
   "outputs": [],
   "source": [
    "df.drop(df.tail(2).index,inplace=True)"
   ]
  },
  {
   "cell_type": "code",
   "execution_count": 302,
   "metadata": {},
   "outputs": [],
   "source": [
    "df['Balance(in billions)'] = df['Balance(in billions)'].astype(float)\n",
    "df['Borrowers(in thousands)'] = df['Borrowers(in thousands)'].astype(float)"
   ]
  },
  {
   "cell_type": "code",
   "execution_count": 303,
   "metadata": {},
   "outputs": [],
   "source": [
    "df['Per Capita Borrowed'] = (df['Balance(in billions)']/df['Borrowers(in thousands)'])*1000000"
   ]
  },
  {
   "cell_type": "markdown",
   "execution_count": null,
   "metadata": {},
   "outputs": [],
   "source": [
    "Cleaned up the data and converted the figures to float, added a column that averaged the amount per borrower."
   ]
  },
  {
   "cell_type": "code",
   "execution_count": 304,
   "metadata": {},
   "outputs": [],
   "source": [
    "df = df.round(0)\n",
    "df = df.drop(39,axis=0).reset_index(drop=True)"
   ]
  },
  {
   "cell_type": "markdown",
   "execution_count": null,
   "metadata": {},
   "outputs": [],
   "source": [
    "I'm adding in information from Bureau of Economic Analysis. It's disposable income so after taxes income and I had to remove Puerto Rico since it was not available. "
   ]
  },
  {
   "cell_type": "code",
   "execution_count": 305,
   "metadata": {},
   "outputs": [],
   "source": [
    "income = pd.read_csv('C:\\\\Users\\\\ventu\\\\Python Projects\\\\Student Loats\\\\Per_Capita_Income.csv',skiprows=6,usecols=[1,2],names=['State','Per Capita Income'])"
   ]
  },
  {
   "cell_type": "code",
   "execution_count": 306,
   "metadata": {},
   "outputs": [],
   "source": [
    "income.drop(income.tail(13).index,inplace=True)"
   ]
  },
  {
   "cell_type": "code",
   "execution_count": 307,
   "metadata": {},
   "outputs": [],
   "source": [
    "income['State'] = income['State'].map(lambda str: str.rstrip(' *'))"
   ]
  },
  {
   "cell_type": "code",
   "execution_count": 323,
   "metadata": {},
   "outputs": [
    {
     "data": {
      "text/html": "<div>\n<style scoped>\n    .dataframe tbody tr th:only-of-type {\n        vertical-align: middle;\n    }\n\n    .dataframe tbody tr th {\n        vertical-align: top;\n    }\n\n    .dataframe thead th {\n        text-align: right;\n    }\n</style>\n<table border=\"1\" class=\"dataframe\">\n  <thead>\n    <tr style=\"text-align: right;\">\n      <th></th>\n      <th>Location</th>\n      <th>Balance(in billions)</th>\n      <th>Borrowers(in thousands)</th>\n      <th>Per Capita Borrowed</th>\n      <th>Per Capita Income</th>\n    </tr>\n  </thead>\n  <tbody>\n    <tr>\n      <th>0</th>\n      <td>Alabama</td>\n      <td>22.0</td>\n      <td>600.0</td>\n      <td>35815.0</td>\n      <td>38215.0</td>\n    </tr>\n    <tr>\n      <th>1</th>\n      <td>Alaska</td>\n      <td>2.0</td>\n      <td>66.0</td>\n      <td>33233.0</td>\n      <td>54430.0</td>\n    </tr>\n    <tr>\n      <th>2</th>\n      <td>Arizona</td>\n      <td>28.0</td>\n      <td>837.0</td>\n      <td>34066.0</td>\n      <td>39955.0</td>\n    </tr>\n    <tr>\n      <th>3</th>\n      <td>Arkansas</td>\n      <td>12.0</td>\n      <td>369.0</td>\n      <td>32276.0</td>\n      <td>39171.0</td>\n    </tr>\n    <tr>\n      <th>4</th>\n      <td>California</td>\n      <td>135.0</td>\n      <td>3834.0</td>\n      <td>35207.0</td>\n      <td>54800.0</td>\n    </tr>\n    <tr>\n      <th>5</th>\n      <td>Colorado</td>\n      <td>27.0</td>\n      <td>746.0</td>\n      <td>35676.0</td>\n      <td>51405.0</td>\n    </tr>\n    <tr>\n      <th>6</th>\n      <td>Connecticut</td>\n      <td>16.0</td>\n      <td>471.0</td>\n      <td>33744.0</td>\n      <td>65063.0</td>\n    </tr>\n    <tr>\n      <th>7</th>\n      <td>Delaware</td>\n      <td>4.0</td>\n      <td>118.0</td>\n      <td>35745.0</td>\n      <td>46406.0</td>\n    </tr>\n    <tr>\n      <th>8</th>\n      <td>District of Columbia</td>\n      <td>6.0</td>\n      <td>116.0</td>\n      <td>53587.0</td>\n      <td>70167.0</td>\n    </tr>\n    <tr>\n      <th>9</th>\n      <td>Florida</td>\n      <td>91.0</td>\n      <td>2451.0</td>\n      <td>37049.0</td>\n      <td>45273.0</td>\n    </tr>\n    <tr>\n      <th>10</th>\n      <td>Georgia</td>\n      <td>62.0</td>\n      <td>1553.0</td>\n      <td>40183.0</td>\n      <td>41578.0</td>\n    </tr>\n    <tr>\n      <th>11</th>\n      <td>Hawaii</td>\n      <td>4.0</td>\n      <td>119.0</td>\n      <td>35205.0</td>\n      <td>49487.0</td>\n    </tr>\n    <tr>\n      <th>12</th>\n      <td>Idaho</td>\n      <td>7.0</td>\n      <td>210.0</td>\n      <td>31414.0</td>\n      <td>39587.0</td>\n    </tr>\n    <tr>\n      <th>13</th>\n      <td>Illinois</td>\n      <td>58.0</td>\n      <td>1594.0</td>\n      <td>36317.0</td>\n      <td>49890.0</td>\n    </tr>\n    <tr>\n      <th>14</th>\n      <td>Indiana</td>\n      <td>28.0</td>\n      <td>886.0</td>\n      <td>31821.0</td>\n      <td>42383.0</td>\n    </tr>\n    <tr>\n      <th>15</th>\n      <td>Iowa</td>\n      <td>13.0</td>\n      <td>430.0</td>\n      <td>29316.0</td>\n      <td>44965.0</td>\n    </tr>\n    <tr>\n      <th>16</th>\n      <td>Kansas</td>\n      <td>12.0</td>\n      <td>375.0</td>\n      <td>31458.0</td>\n      <td>46057.0</td>\n    </tr>\n    <tr>\n      <th>17</th>\n      <td>Kentucky</td>\n      <td>18.0</td>\n      <td>578.0</td>\n      <td>31672.0</td>\n      <td>38075.0</td>\n    </tr>\n    <tr>\n      <th>18</th>\n      <td>Louisiana</td>\n      <td>20.0</td>\n      <td>612.0</td>\n      <td>33165.0</td>\n      <td>42055.0</td>\n    </tr>\n    <tr>\n      <th>19</th>\n      <td>Maine</td>\n      <td>6.0</td>\n      <td>180.0</td>\n      <td>31755.0</td>\n      <td>43909.0</td>\n    </tr>\n    <tr>\n      <th>20</th>\n      <td>Maryland</td>\n      <td>33.0</td>\n      <td>805.0</td>\n      <td>41252.0</td>\n      <td>55128.0</td>\n    </tr>\n    <tr>\n      <th>21</th>\n      <td>Massachusetts</td>\n      <td>29.0</td>\n      <td>866.0</td>\n      <td>33037.0</td>\n      <td>61147.0</td>\n    </tr>\n    <tr>\n      <th>22</th>\n      <td>Michigan</td>\n      <td>48.0</td>\n      <td>1393.0</td>\n      <td>34735.0</td>\n      <td>42979.0</td>\n    </tr>\n    <tr>\n      <th>23</th>\n      <td>Minnesota</td>\n      <td>25.0</td>\n      <td>779.0</td>\n      <td>32366.0</td>\n      <td>49902.0</td>\n    </tr>\n    <tr>\n      <th>24</th>\n      <td>Mississippi</td>\n      <td>15.0</td>\n      <td>420.0</td>\n      <td>35476.0</td>\n      <td>34752.0</td>\n    </tr>\n    <tr>\n      <th>25</th>\n      <td>Missouri</td>\n      <td>28.0</td>\n      <td>810.0</td>\n      <td>34334.0</td>\n      <td>42647.0</td>\n    </tr>\n    <tr>\n      <th>26</th>\n      <td>Montana</td>\n      <td>4.0</td>\n      <td>121.0</td>\n      <td>32312.0</td>\n      <td>42627.0</td>\n    </tr>\n    <tr>\n      <th>27</th>\n      <td>Nebraska</td>\n      <td>7.0</td>\n      <td>241.0</td>\n      <td>30667.0</td>\n      <td>47931.0</td>\n    </tr>\n    <tr>\n      <th>28</th>\n      <td>Nevada</td>\n      <td>11.0</td>\n      <td>324.0</td>\n      <td>32767.0</td>\n      <td>44046.0</td>\n    </tr>\n    <tr>\n      <th>29</th>\n      <td>New Hampshire</td>\n      <td>6.0</td>\n      <td>185.0</td>\n      <td>32468.0</td>\n      <td>54991.0</td>\n    </tr>\n    <tr>\n      <th>30</th>\n      <td>New Jersey</td>\n      <td>39.0</td>\n      <td>1136.0</td>\n      <td>33982.0</td>\n      <td>59180.0</td>\n    </tr>\n    <tr>\n      <th>31</th>\n      <td>New Mexico</td>\n      <td>7.0</td>\n      <td>220.0</td>\n      <td>32757.0</td>\n      <td>38068.0</td>\n    </tr>\n    <tr>\n      <th>32</th>\n      <td>New York</td>\n      <td>87.0</td>\n      <td>2382.0</td>\n      <td>36650.0</td>\n      <td>58005.0</td>\n    </tr>\n    <tr>\n      <th>33</th>\n      <td>North Carolina</td>\n      <td>44.0</td>\n      <td>1226.0</td>\n      <td>36218.0</td>\n      <td>41049.0</td>\n    </tr>\n    <tr>\n      <th>34</th>\n      <td>North Dakota</td>\n      <td>2.0</td>\n      <td>83.0</td>\n      <td>28812.0</td>\n      <td>50037.0</td>\n    </tr>\n    <tr>\n      <th>35</th>\n      <td>Ohio</td>\n      <td>59.0</td>\n      <td>1756.0</td>\n      <td>33540.0</td>\n      <td>43579.0</td>\n    </tr>\n    <tr>\n      <th>36</th>\n      <td>Oklahoma</td>\n      <td>14.0</td>\n      <td>463.0</td>\n      <td>30676.0</td>\n      <td>42008.0</td>\n    </tr>\n    <tr>\n      <th>37</th>\n      <td>Oregon</td>\n      <td>19.0</td>\n      <td>528.0</td>\n      <td>35998.0</td>\n      <td>44397.0</td>\n    </tr>\n    <tr>\n      <th>38</th>\n      <td>Pennsylvania</td>\n      <td>60.0</td>\n      <td>1754.0</td>\n      <td>34327.0</td>\n      <td>49869.0</td>\n    </tr>\n    <tr>\n      <th>39</th>\n      <td>Rhode Island</td>\n      <td>4.0</td>\n      <td>136.0</td>\n      <td>30973.0</td>\n      <td>48742.0</td>\n    </tr>\n    <tr>\n      <th>40</th>\n      <td>South Carolina</td>\n      <td>25.0</td>\n      <td>684.0</td>\n      <td>37005.0</td>\n      <td>39401.0</td>\n    </tr>\n    <tr>\n      <th>41</th>\n      <td>South Dakota</td>\n      <td>3.0</td>\n      <td>112.0</td>\n      <td>30466.0</td>\n      <td>47755.0</td>\n    </tr>\n    <tr>\n      <th>42</th>\n      <td>Tennessee</td>\n      <td>29.0</td>\n      <td>818.0</td>\n      <td>35064.0</td>\n      <td>42922.0</td>\n    </tr>\n    <tr>\n      <th>43</th>\n      <td>Texas</td>\n      <td>107.0</td>\n      <td>3368.0</td>\n      <td>31861.0</td>\n      <td>45904.0</td>\n    </tr>\n    <tr>\n      <th>44</th>\n      <td>Utah</td>\n      <td>9.0</td>\n      <td>293.0</td>\n      <td>31357.0</td>\n      <td>41278.0</td>\n    </tr>\n    <tr>\n      <th>45</th>\n      <td>Vermont</td>\n      <td>3.0</td>\n      <td>75.0</td>\n      <td>36000.0</td>\n      <td>48620.0</td>\n    </tr>\n    <tr>\n      <th>46</th>\n      <td>Virginia</td>\n      <td>39.0</td>\n      <td>1036.0</td>\n      <td>37838.0</td>\n      <td>50627.0</td>\n    </tr>\n    <tr>\n      <th>47</th>\n      <td>Washington</td>\n      <td>26.0</td>\n      <td>765.0</td>\n      <td>33969.0</td>\n      <td>55452.0</td>\n    </tr>\n    <tr>\n      <th>48</th>\n      <td>West Virginia</td>\n      <td>7.0</td>\n      <td>220.0</td>\n      <td>30951.0</td>\n      <td>37061.0</td>\n    </tr>\n    <tr>\n      <th>49</th>\n      <td>Wisconsin</td>\n      <td>22.0</td>\n      <td>712.0</td>\n      <td>30780.0</td>\n      <td>45733.0</td>\n    </tr>\n    <tr>\n      <th>50</th>\n      <td>Wyoming</td>\n      <td>2.0</td>\n      <td>52.0</td>\n      <td>28902.0</td>\n      <td>54713.0</td>\n    </tr>\n  </tbody>\n</table>\n</div>",
      "text/plain": "                Location  Balance(in billions)  Borrowers(in thousands)  \\\n0                Alabama                  22.0                    600.0   \n1                 Alaska                   2.0                     66.0   \n2                Arizona                  28.0                    837.0   \n3               Arkansas                  12.0                    369.0   \n4             California                 135.0                   3834.0   \n5               Colorado                  27.0                    746.0   \n6            Connecticut                  16.0                    471.0   \n7               Delaware                   4.0                    118.0   \n8   District of Columbia                   6.0                    116.0   \n9                Florida                  91.0                   2451.0   \n10               Georgia                  62.0                   1553.0   \n11                Hawaii                   4.0                    119.0   \n12                 Idaho                   7.0                    210.0   \n13              Illinois                  58.0                   1594.0   \n14               Indiana                  28.0                    886.0   \n15                  Iowa                  13.0                    430.0   \n16                Kansas                  12.0                    375.0   \n17              Kentucky                  18.0                    578.0   \n18             Louisiana                  20.0                    612.0   \n19                 Maine                   6.0                    180.0   \n20              Maryland                  33.0                    805.0   \n21         Massachusetts                  29.0                    866.0   \n22              Michigan                  48.0                   1393.0   \n23             Minnesota                  25.0                    779.0   \n24           Mississippi                  15.0                    420.0   \n25              Missouri                  28.0                    810.0   \n26               Montana                   4.0                    121.0   \n27              Nebraska                   7.0                    241.0   \n28                Nevada                  11.0                    324.0   \n29         New Hampshire                   6.0                    185.0   \n30            New Jersey                  39.0                   1136.0   \n31            New Mexico                   7.0                    220.0   \n32              New York                  87.0                   2382.0   \n33        North Carolina                  44.0                   1226.0   \n34          North Dakota                   2.0                     83.0   \n35                  Ohio                  59.0                   1756.0   \n36              Oklahoma                  14.0                    463.0   \n37                Oregon                  19.0                    528.0   \n38          Pennsylvania                  60.0                   1754.0   \n39          Rhode Island                   4.0                    136.0   \n40        South Carolina                  25.0                    684.0   \n41          South Dakota                   3.0                    112.0   \n42             Tennessee                  29.0                    818.0   \n43                 Texas                 107.0                   3368.0   \n44                  Utah                   9.0                    293.0   \n45               Vermont                   3.0                     75.0   \n46              Virginia                  39.0                   1036.0   \n47            Washington                  26.0                    765.0   \n48         West Virginia                   7.0                    220.0   \n49             Wisconsin                  22.0                    712.0   \n50               Wyoming                   2.0                     52.0   \n\n    Per Capita Borrowed  Per Capita Income  \n0               35815.0            38215.0  \n1               33233.0            54430.0  \n2               34066.0            39955.0  \n3               32276.0            39171.0  \n4               35207.0            54800.0  \n5               35676.0            51405.0  \n6               33744.0            65063.0  \n7               35745.0            46406.0  \n8               53587.0            70167.0  \n9               37049.0            45273.0  \n10              40183.0            41578.0  \n11              35205.0            49487.0  \n12              31414.0            39587.0  \n13              36317.0            49890.0  \n14              31821.0            42383.0  \n15              29316.0            44965.0  \n16              31458.0            46057.0  \n17              31672.0            38075.0  \n18              33165.0            42055.0  \n19              31755.0            43909.0  \n20              41252.0            55128.0  \n21              33037.0            61147.0  \n22              34735.0            42979.0  \n23              32366.0            49902.0  \n24              35476.0            34752.0  \n25              34334.0            42647.0  \n26              32312.0            42627.0  \n27              30667.0            47931.0  \n28              32767.0            44046.0  \n29              32468.0            54991.0  \n30              33982.0            59180.0  \n31              32757.0            38068.0  \n32              36650.0            58005.0  \n33              36218.0            41049.0  \n34              28812.0            50037.0  \n35              33540.0            43579.0  \n36              30676.0            42008.0  \n37              35998.0            44397.0  \n38              34327.0            49869.0  \n39              30973.0            48742.0  \n40              37005.0            39401.0  \n41              30466.0            47755.0  \n42              35064.0            42922.0  \n43              31861.0            45904.0  \n44              31357.0            41278.0  \n45              36000.0            48620.0  \n46              37838.0            50627.0  \n47              33969.0            55452.0  \n48              30951.0            37061.0  \n49              30780.0            45733.0  \n50              28902.0            54713.0  "
     },
     "execution_count": 323,
     "metadata": {},
     "output_type": "execute_result"
    }
   ],
   "source": [
    "df['Per Capita Income'] = income['Per Capita Income']\n",
    "df"
   ]
  },
  {
   "cell_type": "code",
   "execution_count": 318,
   "metadata": {},
   "outputs": [],
   "source": [
    "predict = 'Per Capita Borrowed'\n",
    "X = np.array(df['Per Capita Income'])\n",
    "Y = np.array(df[predict])"
   ]
  },
  {
   "cell_type": "code",
   "execution_count": 322,
   "metadata": {},
   "outputs": [
    {
     "data": {
      "text/plain": "0.21835980726748938"
     },
     "execution_count": 322,
     "metadata": {},
     "output_type": "execute_result"
    }
   ],
   "source": [
    "X = X.reshape(-1,1)\n",
    "x_train, x_test, y_train, y_test = sklearn.model_selection.train_test_split(X, Y, test_size = 0.1)\n",
    "linear = linear_model.LinearRegression()\n",
    "linear.fit(x_train, y_train)\n",
    "linear.score(x_test,y_test)"
   ]
  },
  {
   "cell_type": "code",
   "execution_count": 325,
   "metadata": {},
   "outputs": [
    {
     "data": {
      "text/plain": "array([0.18736976])"
     },
     "execution_count": 325,
     "metadata": {},
     "output_type": "execute_result"
    }
   ],
   "source": [
    "linear.coef_"
   ]
  },
  {
   "cell_type": "code",
   "execution_count": null,
   "metadata": {},
   "outputs": [],
   "source": []
  }
 ]
}