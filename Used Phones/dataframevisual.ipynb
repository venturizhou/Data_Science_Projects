{
 "metadata": {
  "language_info": {
   "codemirror_mode": {
    "name": "ipython",
    "version": 3
   },
   "file_extension": ".py",
   "mimetype": "text/x-python",
   "name": "python",
   "nbconvert_exporter": "python",
   "pygments_lexer": "ipython3",
   "version": "3.8.5-final"
  },
  "orig_nbformat": 2,
  "kernelspec": {
   "name": "python38564bitscrapervenv604f3d4d538b498d80554445bff9f18f",
   "display_name": "Python 3.8.5 64-bit ('scraper': venv)"
  }
 },
 "nbformat": 4,
 "nbformat_minor": 2,
 "cells": [
  {
   "cell_type": "code",
   "execution_count": 1,
   "metadata": {},
   "outputs": [],
   "source": [
    "import pandas as pd"
   ]
  },
  {
   "cell_type": "code",
   "execution_count": 5,
   "metadata": {
    "tags": []
   },
   "outputs": [
    {
     "output_type": "stream",
     "name": "stdout",
     "text": "<class 'pandas.core.frame.DataFrame'>\nRangeIndex: 1264 entries, 0 to 1263\nData columns (total 14 columns):\n #   Column       Non-Null Count  Dtype  \n---  ------       --------------  -----  \n 0   Unnamed: 0   1264 non-null   object \n 1   Platform     1264 non-null   object \n 2   Carrier      1264 non-null   object \n 3   Color        1263 non-null   object \n 4   Storage      1264 non-null   object \n 5   ListDate     1264 non-null   object \n 6   SaleDate     0 non-null      float64\n 7   Views        1264 non-null   int64  \n 8   Quanity      0 non-null      float64\n 9   Price        1264 non-null   int64  \n 10  Condition    1264 non-null   object \n 11  Description  1264 non-null   object \n 12  Damage       565 non-null    object \n 13  Sold         94 non-null     object \ndtypes: float64(2), int64(2), object(10)\nmemory usage: 138.4+ KB\n"
    }
   ],
   "source": [
    "df = pd.read_csv('/home/venturi/Projects/Data_Science_Projects/Used Phones/storage.csv')\n",
    "df.info()"
   ]
  },
  {
   "cell_type": "code",
   "execution_count": null,
   "metadata": {},
   "outputs": [],
   "source": []
  }
 ]
}