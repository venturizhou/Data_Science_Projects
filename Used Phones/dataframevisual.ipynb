{
 "metadata": {
  "language_info": {
   "codemirror_mode": {
    "name": "ipython",
    "version": 3
   },
   "file_extension": ".py",
   "mimetype": "text/x-python",
   "name": "python",
   "nbconvert_exporter": "python",
   "pygments_lexer": "ipython3",
   "version": "3.8.5-final"
  },
  "orig_nbformat": 2,
  "kernelspec": {
   "name": "python38564bitscrapervenv604f3d4d538b498d80554445bff9f18f",
   "display_name": "Python 3.8.5 64-bit ('scraper': venv)"
  }
 },
 "nbformat": 4,
 "nbformat_minor": 2,
 "cells": [
  {
   "cell_type": "code",
   "execution_count": 1,
   "metadata": {},
   "outputs": [],
   "source": [
    "import pandas as pd"
   ]
  },
  {
   "cell_type": "code",
   "execution_count": 2,
   "metadata": {
    "tags": []
   },
   "outputs": [
    {
     "output_type": "execute_result",
     "data": {
      "text/plain": "  Unnamed: 0            Model Platform   Carrier Color Storage      ListDate  \\\n0  LUIW14380  Apple iPhone Xr      iOS  Unlocked  Blue  128 GB  Aug 18, 2020   \n\n   ExpiredDate  SaleDate  Views  Quantity  Price Condition  \\\n0          NaN       NaN     80         1    529      Mint   \n\n                                         Description  Damage  Sold  \n0  \\nLike New Device» Mint Condition» Generic Box...     NaN   NaN  ",
      "text/html": "<div>\n<style scoped>\n    .dataframe tbody tr th:only-of-type {\n        vertical-align: middle;\n    }\n\n    .dataframe tbody tr th {\n        vertical-align: top;\n    }\n\n    .dataframe thead th {\n        text-align: right;\n    }\n</style>\n<table border=\"1\" class=\"dataframe\">\n  <thead>\n    <tr style=\"text-align: right;\">\n      <th></th>\n      <th>Unnamed: 0</th>\n      <th>Model</th>\n      <th>Platform</th>\n      <th>Carrier</th>\n      <th>Color</th>\n      <th>Storage</th>\n      <th>ListDate</th>\n      <th>ExpiredDate</th>\n      <th>SaleDate</th>\n      <th>Views</th>\n      <th>Quantity</th>\n      <th>Price</th>\n      <th>Condition</th>\n      <th>Description</th>\n      <th>Damage</th>\n      <th>Sold</th>\n    </tr>\n  </thead>\n  <tbody>\n    <tr>\n      <th>0</th>\n      <td>LUIW14380</td>\n      <td>Apple iPhone Xr</td>\n      <td>iOS</td>\n      <td>Unlocked</td>\n      <td>Blue</td>\n      <td>128 GB</td>\n      <td>Aug 18, 2020</td>\n      <td>NaN</td>\n      <td>NaN</td>\n      <td>80</td>\n      <td>1</td>\n      <td>529</td>\n      <td>Mint</td>\n      <td>\\nLike New Device» Mint Condition» Generic Box...</td>\n      <td>NaN</td>\n      <td>NaN</td>\n    </tr>\n  </tbody>\n</table>\n</div>"
     },
     "metadata": {},
     "execution_count": 2
    }
   ],
   "source": [
    "df = pd.read_csv('/home/venturi/Projects/Data_Science_Projects/Used Phones/storage.csv')\n",
    "df.head()"
   ]
  },
  {
   "cell_type": "code",
   "execution_count": null,
   "metadata": {},
   "outputs": [],
   "source": []
  }
 ]
}