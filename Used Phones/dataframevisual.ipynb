{
 "metadata": {
  "language_info": {
   "codemirror_mode": {
    "name": "ipython",
    "version": 3
   },
   "file_extension": ".py",
   "mimetype": "text/x-python",
   "name": "python",
   "nbconvert_exporter": "python",
   "pygments_lexer": "ipython3",
   "version": "3.8.5-final"
  },
  "orig_nbformat": 2,
  "kernelspec": {
   "name": "python_defaultSpec_1600534430082",
   "display_name": "Python 3.8.5 32-bit ('surfacescrape': venv)"
  }
 },
 "nbformat": 4,
 "nbformat_minor": 2,
 "cells": [
  {
   "cell_type": "code",
   "execution_count": 98,
   "metadata": {},
   "outputs": [],
   "source": [
    "import pandas as pd"
   ]
  },
  {
   "cell_type": "code",
   "execution_count": 99,
   "metadata": {
    "tags": []
   },
   "outputs": [],
   "source": [
    "# df = pd.read_csv(r'C:\\Users\\ventu\\WSL\\Python\\Data_Science_Projects\\Used Phones\\storage.csv')\n",
    "# df.head()"
   ]
  },
  {
   "cell_type": "code",
   "execution_count": 100,
   "metadata": {},
   "outputs": [],
   "source": [
    "df = pd.read_csv('/home/venturi/Projects/Data_Science_Projects/Used Phones/storage.csv')\n",
    "df = df.set_index('Listing')"
   ]
  },
  {
   "cell_type": "code",
   "execution_count": 101,
   "metadata": {},
   "outputs": [],
   "source": [
    "df.insert(12, 'Title', '')"
   ]
  },
  {
   "cell_type": "code",
   "execution_count": 103,
   "metadata": {},
   "outputs": [],
   "source": [
    "df = df"
   ]
  },
  {
   "cell_type": "code",
   "execution_count": 104,
   "metadata": {},
   "outputs": [],
   "source": [
    "df.to_csv('/home/venturi/Projects/Data_Science_Projects/Used Phones/storage.csv')"
   ]
  },
  {
   "cell_type": "code",
   "execution_count": 105,
   "metadata": {},
   "outputs": [
    {
     "output_type": "execute_result",
     "data": {
      "text/plain": "                             Model Platform Carrier   Color Storage  \\\nListing                                                               \nLUJS17403          Apple iPhone 11      iOS    AT&T   Black   64 GB   \nLUDI07758          Apple iPhone 11      iOS    AT&T  Purple   64 GB   \nLUJX60358          Apple iPhone 11      iOS    AT&T  Purple  128 GB   \nLUIX98388  Apple iPhone 11 Pro Max      iOS    AT&T    Gray  256 GB   \nLUJY83673  Apple iPhone 11 Pro Max      iOS    AT&T   Green   64 GB   \n\n               ListDate   ExpiredDate      SaleDate  Views  Quantity  Price  \\\nListing                                                                       \nLUJS17403  Sep 08, 2020           NaN  Sep 15, 2020     24         1    645   \nLUDI07758  Mar 27, 2020           NaN  Sep 14, 2020    335         0    658   \nLUJX60358  Sep 14, 2020           NaN  Sep 14, 2020     15         1    590   \nLUIX98388  Aug 19, 2020           NaN           NaN    189         1   1079   \nLUJY83673  Sep 14, 2020  Sep 24, 2020           NaN     21         1    855   \n\n          Condition Title                                        Description  \\\nListing                                                                        \nLUJS17403      Mint        \\nTested 100% working. Comes with full accesso...   \nLUDI07758      Mint        \\nThis phone is in MINT condition.  It is full...   \nLUJX60358      Good        \\nAT&T Apple iPhone 11 128GB UNLOCKED , GREAT ...   \nLUIX98388      Mint        \\nLike New Device» Mint Condition» Generic Box...   \nLUJY83673      Mint        \\niPhone 11 Pro Max - green color. Like new co...   \n\n                                          Damage Sold  \nListing                                                \nLUJS17403                                    NaN  Yes  \nLUDI07758                                    NaN  Yes  \nLUJX60358  \\nlight signs of wear, barely seen.\\n  Yes  \nLUIX98388                                    NaN  NaN  \nLUJY83673                                    NaN  NaN  ",
      "text/html": "<div>\n<style scoped>\n    .dataframe tbody tr th:only-of-type {\n        vertical-align: middle;\n    }\n\n    .dataframe tbody tr th {\n        vertical-align: top;\n    }\n\n    .dataframe thead th {\n        text-align: right;\n    }\n</style>\n<table border=\"1\" class=\"dataframe\">\n  <thead>\n    <tr style=\"text-align: right;\">\n      <th></th>\n      <th>Model</th>\n      <th>Platform</th>\n      <th>Carrier</th>\n      <th>Color</th>\n      <th>Storage</th>\n      <th>ListDate</th>\n      <th>ExpiredDate</th>\n      <th>SaleDate</th>\n      <th>Views</th>\n      <th>Quantity</th>\n      <th>Price</th>\n      <th>Condition</th>\n      <th>Title</th>\n      <th>Description</th>\n      <th>Damage</th>\n      <th>Sold</th>\n    </tr>\n    <tr>\n      <th>Listing</th>\n      <th></th>\n      <th></th>\n      <th></th>\n      <th></th>\n      <th></th>\n      <th></th>\n      <th></th>\n      <th></th>\n      <th></th>\n      <th></th>\n      <th></th>\n      <th></th>\n      <th></th>\n      <th></th>\n      <th></th>\n      <th></th>\n    </tr>\n  </thead>\n  <tbody>\n    <tr>\n      <th>LUJS17403</th>\n      <td>Apple iPhone 11</td>\n      <td>iOS</td>\n      <td>AT&amp;T</td>\n      <td>Black</td>\n      <td>64 GB</td>\n      <td>Sep 08, 2020</td>\n      <td>NaN</td>\n      <td>Sep 15, 2020</td>\n      <td>24</td>\n      <td>1</td>\n      <td>645</td>\n      <td>Mint</td>\n      <td></td>\n      <td>\\nTested 100% working. Comes with full accesso...</td>\n      <td>NaN</td>\n      <td>Yes</td>\n    </tr>\n    <tr>\n      <th>LUDI07758</th>\n      <td>Apple iPhone 11</td>\n      <td>iOS</td>\n      <td>AT&amp;T</td>\n      <td>Purple</td>\n      <td>64 GB</td>\n      <td>Mar 27, 2020</td>\n      <td>NaN</td>\n      <td>Sep 14, 2020</td>\n      <td>335</td>\n      <td>0</td>\n      <td>658</td>\n      <td>Mint</td>\n      <td></td>\n      <td>\\nThis phone is in MINT condition.  It is full...</td>\n      <td>NaN</td>\n      <td>Yes</td>\n    </tr>\n    <tr>\n      <th>LUJX60358</th>\n      <td>Apple iPhone 11</td>\n      <td>iOS</td>\n      <td>AT&amp;T</td>\n      <td>Purple</td>\n      <td>128 GB</td>\n      <td>Sep 14, 2020</td>\n      <td>NaN</td>\n      <td>Sep 14, 2020</td>\n      <td>15</td>\n      <td>1</td>\n      <td>590</td>\n      <td>Good</td>\n      <td></td>\n      <td>\\nAT&amp;T Apple iPhone 11 128GB UNLOCKED , GREAT ...</td>\n      <td>\\nlight signs of wear, barely seen.\\n</td>\n      <td>Yes</td>\n    </tr>\n    <tr>\n      <th>LUIX98388</th>\n      <td>Apple iPhone 11 Pro Max</td>\n      <td>iOS</td>\n      <td>AT&amp;T</td>\n      <td>Gray</td>\n      <td>256 GB</td>\n      <td>Aug 19, 2020</td>\n      <td>NaN</td>\n      <td>NaN</td>\n      <td>189</td>\n      <td>1</td>\n      <td>1079</td>\n      <td>Mint</td>\n      <td></td>\n      <td>\\nLike New Device» Mint Condition» Generic Box...</td>\n      <td>NaN</td>\n      <td>NaN</td>\n    </tr>\n    <tr>\n      <th>LUJY83673</th>\n      <td>Apple iPhone 11 Pro Max</td>\n      <td>iOS</td>\n      <td>AT&amp;T</td>\n      <td>Green</td>\n      <td>64 GB</td>\n      <td>Sep 14, 2020</td>\n      <td>Sep 24, 2020</td>\n      <td>NaN</td>\n      <td>21</td>\n      <td>1</td>\n      <td>855</td>\n      <td>Mint</td>\n      <td></td>\n      <td>\\niPhone 11 Pro Max - green color. Like new co...</td>\n      <td>NaN</td>\n      <td>NaN</td>\n    </tr>\n  </tbody>\n</table>\n</div>"
     },
     "metadata": {},
     "execution_count": 105
    }
   ],
   "source": [
    "df2 = pd.read_csv('/home/venturi/Projects/Data_Science_Projects/Used Phones/storage.csv')\n",
    "df.head()"
   ]
  },
  {
   "cell_type": "code",
   "execution_count": null,
   "metadata": {},
   "outputs": [],
   "source": []
  }
 ]
}