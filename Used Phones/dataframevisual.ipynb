{
 "metadata": {
  "language_info": {
   "codemirror_mode": {
    "name": "ipython",
    "version": 3
   },
   "file_extension": ".py",
   "mimetype": "text/x-python",
   "name": "python",
   "nbconvert_exporter": "python",
   "pygments_lexer": "ipython3",
   "version": "3.8.6-final"
  },
  "orig_nbformat": 2,
  "kernelspec": {
   "name": "Python 3.8.6 64-bit ('scraper')",
   "display_name": "Python 3.8.6 64-bit ('scraper')",
   "metadata": {
    "interpreter": {
     "hash": "73374a1ee4e90286b0035aa497d723f9cb9f83e737b6b49956b682c5ef0dea04"
    }
   }
  }
 },
 "nbformat": 4,
 "nbformat_minor": 2,
 "cells": [
  {
   "cell_type": "code",
   "execution_count": 1,
   "metadata": {},
   "outputs": [
    {
     "output_type": "display_data",
     "data": {
      "text/plain": "<IPython.core.display.Javascript object>",
      "application/javascript": "\n            setTimeout(function() {\n                var nbb_cell_id = 1;\n                var nbb_unformatted_code = \"%load_ext nb_black\";\n                var nbb_formatted_code = \"%load_ext nb_black\";\n                var nbb_cells = Jupyter.notebook.get_cells();\n                for (var i = 0; i < nbb_cells.length; ++i) {\n                    if (nbb_cells[i].input_prompt_number == nbb_cell_id) {\n                        if (nbb_cells[i].get_text() == nbb_unformatted_code) {\n                             nbb_cells[i].set_text(nbb_formatted_code);\n                        }\n                        break;\n                    }\n                }\n            }, 500);\n            "
     },
     "metadata": {}
    }
   ],
   "source": [
    "%load_ext nb_black"
   ]
  },
  {
   "cell_type": "code",
   "execution_count": 2,
   "metadata": {},
   "outputs": [
    {
     "output_type": "display_data",
     "data": {
      "text/plain": "<IPython.core.display.Javascript object>",
      "application/javascript": "\n            setTimeout(function() {\n                var nbb_cell_id = 2;\n                var nbb_unformatted_code = \"import pandas as pd\";\n                var nbb_formatted_code = \"import pandas as pd\";\n                var nbb_cells = Jupyter.notebook.get_cells();\n                for (var i = 0; i < nbb_cells.length; ++i) {\n                    if (nbb_cells[i].input_prompt_number == nbb_cell_id) {\n                        if (nbb_cells[i].get_text() == nbb_unformatted_code) {\n                             nbb_cells[i].set_text(nbb_formatted_code);\n                        }\n                        break;\n                    }\n                }\n            }, 500);\n            "
     },
     "metadata": {}
    }
   ],
   "source": [
    "import pandas as pd"
   ]
  },
  {
   "cell_type": "code",
   "execution_count": 3,
   "metadata": {
    "tags": []
   },
   "outputs": [
    {
     "output_type": "execute_result",
     "data": {
      "text/plain": [
       "     Listing                    Model Platform Carrier   Color Storage  \\\n",
       "0  LUJS17403          Apple iPhone 11      iOS    AT&T   Black   64 GB   \n",
       "1  LUDI07758          Apple iPhone 11      iOS    AT&T  Purple   64 GB   \n",
       "2  LUJX60358          Apple iPhone 11      iOS    AT&T  Purple  128 GB   \n",
       "3  LUIX98388  Apple iPhone 11 Pro Max      iOS    AT&T    Gray  256 GB   \n",
       "4  LUJY83673  Apple iPhone 11 Pro Max      iOS    AT&T   Green   64 GB   \n",
       "\n",
       "       ListDate   ExpiredDate      SaleDate  Views  Quantity  Price Condition  \\\n",
       "0  Sep 08, 2020           NaN  Sep 15, 2020     24         1    645      Mint   \n",
       "1  Mar 27, 2020           NaN           NaN    389         2    656      Mint   \n",
       "2  Sep 14, 2020           NaN  Sep 14, 2020     15         1    590      Good   \n",
       "3  Aug 19, 2020           NaN           NaN    189         1   1079      Mint   \n",
       "4  Sep 14, 2020  Sep 24, 2020           NaN     21         1    855      Mint   \n",
       "\n",
       "                                Title  \\\n",
       "0                                 NaN   \n",
       "1  ♻️ FREE FAST SHIPPING – AT&T- MINT   \n",
       "2                                 NaN   \n",
       "3                                 NaN   \n",
       "4                                 NaN   \n",
       "\n",
       "                                         Description  \\\n",
       "0  \\r\\nTested 100% working. Comes with full acces...   \n",
       "1  This phone is in MINT condition.  It is fully ...   \n",
       "2  \\r\\nAT&T Apple iPhone 11 128GB UNLOCKED , GREA...   \n",
       "3  \\r\\nLike New Device» Mint Condition» Generic B...   \n",
       "4  \\r\\niPhone 11 Pro Max - green color. Like new ...   \n",
       "\n",
       "                                      Damage Sold  \n",
       "0                                        NaN  Yes  \n",
       "1                                        NaN  NaN  \n",
       "2  \\r\\nlight signs of wear, barely seen.\\r\\n  Yes  \n",
       "3                                        NaN  NaN  \n",
       "4                                        NaN  NaN  "
      ],
      "text/html": "<div>\n<style scoped>\n    .dataframe tbody tr th:only-of-type {\n        vertical-align: middle;\n    }\n\n    .dataframe tbody tr th {\n        vertical-align: top;\n    }\n\n    .dataframe thead th {\n        text-align: right;\n    }\n</style>\n<table border=\"1\" class=\"dataframe\">\n  <thead>\n    <tr style=\"text-align: right;\">\n      <th></th>\n      <th>Listing</th>\n      <th>Model</th>\n      <th>Platform</th>\n      <th>Carrier</th>\n      <th>Color</th>\n      <th>Storage</th>\n      <th>ListDate</th>\n      <th>ExpiredDate</th>\n      <th>SaleDate</th>\n      <th>Views</th>\n      <th>Quantity</th>\n      <th>Price</th>\n      <th>Condition</th>\n      <th>Title</th>\n      <th>Description</th>\n      <th>Damage</th>\n      <th>Sold</th>\n    </tr>\n  </thead>\n  <tbody>\n    <tr>\n      <th>0</th>\n      <td>LUJS17403</td>\n      <td>Apple iPhone 11</td>\n      <td>iOS</td>\n      <td>AT&amp;T</td>\n      <td>Black</td>\n      <td>64 GB</td>\n      <td>Sep 08, 2020</td>\n      <td>NaN</td>\n      <td>Sep 15, 2020</td>\n      <td>24</td>\n      <td>1</td>\n      <td>645</td>\n      <td>Mint</td>\n      <td>NaN</td>\n      <td>\\r\\nTested 100% working. Comes with full acces...</td>\n      <td>NaN</td>\n      <td>Yes</td>\n    </tr>\n    <tr>\n      <th>1</th>\n      <td>LUDI07758</td>\n      <td>Apple iPhone 11</td>\n      <td>iOS</td>\n      <td>AT&amp;T</td>\n      <td>Purple</td>\n      <td>64 GB</td>\n      <td>Mar 27, 2020</td>\n      <td>NaN</td>\n      <td>NaN</td>\n      <td>389</td>\n      <td>2</td>\n      <td>656</td>\n      <td>Mint</td>\n      <td>♻️ FREE FAST SHIPPING – AT&amp;T- MINT</td>\n      <td>This phone is in MINT condition.  It is fully ...</td>\n      <td>NaN</td>\n      <td>NaN</td>\n    </tr>\n    <tr>\n      <th>2</th>\n      <td>LUJX60358</td>\n      <td>Apple iPhone 11</td>\n      <td>iOS</td>\n      <td>AT&amp;T</td>\n      <td>Purple</td>\n      <td>128 GB</td>\n      <td>Sep 14, 2020</td>\n      <td>NaN</td>\n      <td>Sep 14, 2020</td>\n      <td>15</td>\n      <td>1</td>\n      <td>590</td>\n      <td>Good</td>\n      <td>NaN</td>\n      <td>\\r\\nAT&amp;T Apple iPhone 11 128GB UNLOCKED , GREA...</td>\n      <td>\\r\\nlight signs of wear, barely seen.\\r\\n</td>\n      <td>Yes</td>\n    </tr>\n    <tr>\n      <th>3</th>\n      <td>LUIX98388</td>\n      <td>Apple iPhone 11 Pro Max</td>\n      <td>iOS</td>\n      <td>AT&amp;T</td>\n      <td>Gray</td>\n      <td>256 GB</td>\n      <td>Aug 19, 2020</td>\n      <td>NaN</td>\n      <td>NaN</td>\n      <td>189</td>\n      <td>1</td>\n      <td>1079</td>\n      <td>Mint</td>\n      <td>NaN</td>\n      <td>\\r\\nLike New Device» Mint Condition» Generic B...</td>\n      <td>NaN</td>\n      <td>NaN</td>\n    </tr>\n    <tr>\n      <th>4</th>\n      <td>LUJY83673</td>\n      <td>Apple iPhone 11 Pro Max</td>\n      <td>iOS</td>\n      <td>AT&amp;T</td>\n      <td>Green</td>\n      <td>64 GB</td>\n      <td>Sep 14, 2020</td>\n      <td>Sep 24, 2020</td>\n      <td>NaN</td>\n      <td>21</td>\n      <td>1</td>\n      <td>855</td>\n      <td>Mint</td>\n      <td>NaN</td>\n      <td>\\r\\niPhone 11 Pro Max - green color. Like new ...</td>\n      <td>NaN</td>\n      <td>NaN</td>\n    </tr>\n  </tbody>\n</table>\n</div>"
     },
     "metadata": {},
     "execution_count": 3
    },
    {
     "output_type": "display_data",
     "data": {
      "text/plain": "<IPython.core.display.Javascript object>",
      "application/javascript": "\n            setTimeout(function() {\n                var nbb_cell_id = 3;\n                var nbb_unformatted_code = \"df = pd.read_csv(r'C:\\\\Users\\\\ventu\\\\pyProjects\\\\Data_Science_Projects\\\\Used Phones\\\\storage.csv',index_col=[0])\\n# df.drop(df.columns[df.columns.str.contains('unnamed',case = False)],axis = 1, inplace = True)\\ndf.head()\";\n                var nbb_formatted_code = \"df = pd.read_csv(\\n    r\\\"C:\\\\Users\\\\ventu\\\\pyProjects\\\\Data_Science_Projects\\\\Used Phones\\\\storage.csv\\\",\\n    index_col=[0],\\n)\\n# df.drop(df.columns[df.columns.str.contains('unnamed',case = False)],axis = 1, inplace = True)\\ndf.head()\";\n                var nbb_cells = Jupyter.notebook.get_cells();\n                for (var i = 0; i < nbb_cells.length; ++i) {\n                    if (nbb_cells[i].input_prompt_number == nbb_cell_id) {\n                        if (nbb_cells[i].get_text() == nbb_unformatted_code) {\n                             nbb_cells[i].set_text(nbb_formatted_code);\n                        }\n                        break;\n                    }\n                }\n            }, 500);\n            "
     },
     "metadata": {}
    }
   ],
   "source": [
    "df = pd.read_csv(r'C:\\Users\\ventu\\pyProjects\\Data_Science_Projects\\Used Phones\\storage.csv',index_col=[0])\n",
    "# df.drop(df.columns[df.columns.str.contains('unnamed',case = False)],axis = 1, inplace = True)\n",
    "df.head()"
   ]
  },
  {
   "cell_type": "code",
   "execution_count": 4,
   "metadata": {
    "tags": []
   },
   "outputs": [
    {
     "output_type": "display_data",
     "data": {
      "text/plain": "<IPython.core.display.Javascript object>",
      "application/javascript": "\n            setTimeout(function() {\n                var nbb_cell_id = 4;\n                var nbb_unformatted_code = \"# df = pd.read_csv('/home/venturi/Projects/Data_Science_Projects/Used Phones/storage.csv')\";\n                var nbb_formatted_code = \"# df = pd.read_csv('/home/venturi/Projects/Data_Science_Projects/Used Phones/storage.csv')\";\n                var nbb_cells = Jupyter.notebook.get_cells();\n                for (var i = 0; i < nbb_cells.length; ++i) {\n                    if (nbb_cells[i].input_prompt_number == nbb_cell_id) {\n                        if (nbb_cells[i].get_text() == nbb_unformatted_code) {\n                             nbb_cells[i].set_text(nbb_formatted_code);\n                        }\n                        break;\n                    }\n                }\n            }, 500);\n            "
     },
     "metadata": {}
    }
   ],
   "source": [
    "# df = pd.read_csv('/home/venturi/Projects/Data_Science_Projects/Used Phones/storage.csv')"
   ]
  },
  {
   "cell_type": "code",
   "execution_count": 5,
   "metadata": {},
   "outputs": [
    {
     "output_type": "execute_result",
     "data": {
      "text/plain": [
       "                             Model Platform   Carrier   Color Storage  \\\n",
       "Listing                                                                 \n",
       "LUJS17403          Apple iPhone 11      iOS      AT&T   Black   64 GB   \n",
       "LUDI07758          Apple iPhone 11      iOS      AT&T  Purple   64 GB   \n",
       "LUJX60358          Apple iPhone 11      iOS      AT&T  Purple  128 GB   \n",
       "LUIX98388  Apple iPhone 11 Pro Max      iOS      AT&T    Gray  256 GB   \n",
       "LUJY83673  Apple iPhone 11 Pro Max      iOS      AT&T   Green   64 GB   \n",
       "...                            ...      ...       ...     ...     ...   \n",
       "NaN                     OnePlus 7T  Android  T-Mobile    Blue  128 GB   \n",
       "NaN                     OnePlus 7T  Android  T-Mobile  Silver  128 GB   \n",
       "NaN                     OnePlus 7T  Android  T-Mobile    Blue  128 GB   \n",
       "NaN                     OnePlus 7T  Android  T-Mobile  Silver  128 GB   \n",
       "NaN                     OnePlus 7T  Android  T-Mobile  Silver  128 GB   \n",
       "\n",
       "               ListDate   ExpiredDate      SaleDate  Views  Quantity  Price  \\\n",
       "Listing                                                                       \n",
       "LUJS17403  Sep 08, 2020           NaN  Sep 15, 2020     24         1    645   \n",
       "LUDI07758  Mar 27, 2020           NaN           NaN    389         2    656   \n",
       "LUJX60358  Sep 14, 2020           NaN  Sep 14, 2020     15         1    590   \n",
       "LUIX98388  Aug 19, 2020           NaN           NaN    189         1   1079   \n",
       "LUJY83673  Sep 14, 2020  Sep 24, 2020           NaN     21         1    855   \n",
       "...                 ...           ...           ...    ...       ...    ...   \n",
       "NaN        Oct 05, 2020  Nov 04, 2020           NaN     72         1    340   \n",
       "NaN        Oct 14, 2020  Oct 30, 2020           NaN     36         1    341   \n",
       "NaN        Oct 08, 2020  Nov 03, 2020           NaN     69         1    375   \n",
       "NaN        Sep 24, 2020  Oct 21, 2020           NaN     71         1    389   \n",
       "NaN        Oct 26, 2020  Nov 05, 2020           NaN      7         1    399   \n",
       "\n",
       "          Condition                                              Title  \\\n",
       "Listing                                                                  \n",
       "LUJS17403      Mint                                                NaN   \n",
       "LUDI07758      Mint                 ♻️ FREE FAST SHIPPING – AT&T- MINT   \n",
       "LUJX60358      Good                                                NaN   \n",
       "LUIX98388      Mint                                                NaN   \n",
       "LUJY83673      Mint                                                NaN   \n",
       "...             ...                                                ...   \n",
       "NaN            Good  Great condition 128GB/8GB Ram Sim Unlocked Glo...   \n",
       "NaN            Good  OnePlus 7T Unlocked | 128GB | Silver | HD1907 ...   \n",
       "NaN            Mint  OnePlus 7T unlocked by the manufacturer 8GB ra...   \n",
       "NaN             New  **🚚FREE PRIORITY SHIPPING🚚 ** 🎁NEW IN BOX 🎁 ON...   \n",
       "NaN            Mint             ONLY OPENED TO UNLOCK - Make an offer!   \n",
       "\n",
       "                                                 Description  \\\n",
       "Listing                                                        \n",
       "LUJS17403  \\r\\nTested 100% working. Comes with full acces...   \n",
       "LUDI07758  This phone is in MINT condition.  It is fully ...   \n",
       "LUJX60358  \\r\\nAT&T Apple iPhone 11 128GB UNLOCKED , GREA...   \n",
       "LUIX98388  \\r\\nLike New Device» Mint Condition» Generic B...   \n",
       "LUJY83673  \\r\\niPhone 11 Pro Max - green color. Like new ...   \n",
       "...                                                      ...   \n",
       "NaN        Phone is in great shape. No scratches on the s...   \n",
       "NaN        Used unlocked OnePlus 7T which includes the or...   \n",
       "NaN        OnePlus 7T Mint Condition hardly usedYou are b...   \n",
       "NaN        THIS IS A ONEPLUS 7T (T-MOBILE)\\nFOR T-MOBILE\\...   \n",
       "NaN        I'm new to Swappa, but I have over 500 positiv...   \n",
       "\n",
       "                                                      Damage Sold  \n",
       "Listing                                                            \n",
       "LUJS17403                                                NaN  Yes  \n",
       "LUDI07758                                                NaN  NaN  \n",
       "LUJX60358          \\r\\nlight signs of wear, barely seen.\\r\\n  Yes  \n",
       "LUIX98388                                                NaN  NaN  \n",
       "LUJY83673                                                NaN  NaN  \n",
       "...                                                      ...  ...  \n",
       "NaN        normal wear and tear. no visible scratches or ...  NaN  \n",
       "NaN        Some minor scratches throughout the body and s...  NaN  \n",
       "NaN                                                      NaN  NaN  \n",
       "NaN                                                      NaN  NaN  \n",
       "NaN                                                      NaN  NaN  \n",
       "\n",
       "[25853 rows x 16 columns]"
      ],
      "text/html": "<div>\n<style scoped>\n    .dataframe tbody tr th:only-of-type {\n        vertical-align: middle;\n    }\n\n    .dataframe tbody tr th {\n        vertical-align: top;\n    }\n\n    .dataframe thead th {\n        text-align: right;\n    }\n</style>\n<table border=\"1\" class=\"dataframe\">\n  <thead>\n    <tr style=\"text-align: right;\">\n      <th></th>\n      <th>Model</th>\n      <th>Platform</th>\n      <th>Carrier</th>\n      <th>Color</th>\n      <th>Storage</th>\n      <th>ListDate</th>\n      <th>ExpiredDate</th>\n      <th>SaleDate</th>\n      <th>Views</th>\n      <th>Quantity</th>\n      <th>Price</th>\n      <th>Condition</th>\n      <th>Title</th>\n      <th>Description</th>\n      <th>Damage</th>\n      <th>Sold</th>\n    </tr>\n    <tr>\n      <th>Listing</th>\n      <th></th>\n      <th></th>\n      <th></th>\n      <th></th>\n      <th></th>\n      <th></th>\n      <th></th>\n      <th></th>\n      <th></th>\n      <th></th>\n      <th></th>\n      <th></th>\n      <th></th>\n      <th></th>\n      <th></th>\n      <th></th>\n    </tr>\n  </thead>\n  <tbody>\n    <tr>\n      <th>LUJS17403</th>\n      <td>Apple iPhone 11</td>\n      <td>iOS</td>\n      <td>AT&amp;T</td>\n      <td>Black</td>\n      <td>64 GB</td>\n      <td>Sep 08, 2020</td>\n      <td>NaN</td>\n      <td>Sep 15, 2020</td>\n      <td>24</td>\n      <td>1</td>\n      <td>645</td>\n      <td>Mint</td>\n      <td>NaN</td>\n      <td>\\r\\nTested 100% working. Comes with full acces...</td>\n      <td>NaN</td>\n      <td>Yes</td>\n    </tr>\n    <tr>\n      <th>LUDI07758</th>\n      <td>Apple iPhone 11</td>\n      <td>iOS</td>\n      <td>AT&amp;T</td>\n      <td>Purple</td>\n      <td>64 GB</td>\n      <td>Mar 27, 2020</td>\n      <td>NaN</td>\n      <td>NaN</td>\n      <td>389</td>\n      <td>2</td>\n      <td>656</td>\n      <td>Mint</td>\n      <td>♻️ FREE FAST SHIPPING – AT&amp;T- MINT</td>\n      <td>This phone is in MINT condition.  It is fully ...</td>\n      <td>NaN</td>\n      <td>NaN</td>\n    </tr>\n    <tr>\n      <th>LUJX60358</th>\n      <td>Apple iPhone 11</td>\n      <td>iOS</td>\n      <td>AT&amp;T</td>\n      <td>Purple</td>\n      <td>128 GB</td>\n      <td>Sep 14, 2020</td>\n      <td>NaN</td>\n      <td>Sep 14, 2020</td>\n      <td>15</td>\n      <td>1</td>\n      <td>590</td>\n      <td>Good</td>\n      <td>NaN</td>\n      <td>\\r\\nAT&amp;T Apple iPhone 11 128GB UNLOCKED , GREA...</td>\n      <td>\\r\\nlight signs of wear, barely seen.\\r\\n</td>\n      <td>Yes</td>\n    </tr>\n    <tr>\n      <th>LUIX98388</th>\n      <td>Apple iPhone 11 Pro Max</td>\n      <td>iOS</td>\n      <td>AT&amp;T</td>\n      <td>Gray</td>\n      <td>256 GB</td>\n      <td>Aug 19, 2020</td>\n      <td>NaN</td>\n      <td>NaN</td>\n      <td>189</td>\n      <td>1</td>\n      <td>1079</td>\n      <td>Mint</td>\n      <td>NaN</td>\n      <td>\\r\\nLike New Device» Mint Condition» Generic B...</td>\n      <td>NaN</td>\n      <td>NaN</td>\n    </tr>\n    <tr>\n      <th>LUJY83673</th>\n      <td>Apple iPhone 11 Pro Max</td>\n      <td>iOS</td>\n      <td>AT&amp;T</td>\n      <td>Green</td>\n      <td>64 GB</td>\n      <td>Sep 14, 2020</td>\n      <td>Sep 24, 2020</td>\n      <td>NaN</td>\n      <td>21</td>\n      <td>1</td>\n      <td>855</td>\n      <td>Mint</td>\n      <td>NaN</td>\n      <td>\\r\\niPhone 11 Pro Max - green color. Like new ...</td>\n      <td>NaN</td>\n      <td>NaN</td>\n    </tr>\n    <tr>\n      <th>...</th>\n      <td>...</td>\n      <td>...</td>\n      <td>...</td>\n      <td>...</td>\n      <td>...</td>\n      <td>...</td>\n      <td>...</td>\n      <td>...</td>\n      <td>...</td>\n      <td>...</td>\n      <td>...</td>\n      <td>...</td>\n      <td>...</td>\n      <td>...</td>\n      <td>...</td>\n      <td>...</td>\n    </tr>\n    <tr>\n      <th>NaN</th>\n      <td>OnePlus 7T</td>\n      <td>Android</td>\n      <td>T-Mobile</td>\n      <td>Blue</td>\n      <td>128 GB</td>\n      <td>Oct 05, 2020</td>\n      <td>Nov 04, 2020</td>\n      <td>NaN</td>\n      <td>72</td>\n      <td>1</td>\n      <td>340</td>\n      <td>Good</td>\n      <td>Great condition 128GB/8GB Ram Sim Unlocked Glo...</td>\n      <td>Phone is in great shape. No scratches on the s...</td>\n      <td>normal wear and tear. no visible scratches or ...</td>\n      <td>NaN</td>\n    </tr>\n    <tr>\n      <th>NaN</th>\n      <td>OnePlus 7T</td>\n      <td>Android</td>\n      <td>T-Mobile</td>\n      <td>Silver</td>\n      <td>128 GB</td>\n      <td>Oct 14, 2020</td>\n      <td>Oct 30, 2020</td>\n      <td>NaN</td>\n      <td>36</td>\n      <td>1</td>\n      <td>341</td>\n      <td>Good</td>\n      <td>OnePlus 7T Unlocked | 128GB | Silver | HD1907 ...</td>\n      <td>Used unlocked OnePlus 7T which includes the or...</td>\n      <td>Some minor scratches throughout the body and s...</td>\n      <td>NaN</td>\n    </tr>\n    <tr>\n      <th>NaN</th>\n      <td>OnePlus 7T</td>\n      <td>Android</td>\n      <td>T-Mobile</td>\n      <td>Blue</td>\n      <td>128 GB</td>\n      <td>Oct 08, 2020</td>\n      <td>Nov 03, 2020</td>\n      <td>NaN</td>\n      <td>69</td>\n      <td>1</td>\n      <td>375</td>\n      <td>Mint</td>\n      <td>OnePlus 7T unlocked by the manufacturer 8GB ra...</td>\n      <td>OnePlus 7T Mint Condition hardly usedYou are b...</td>\n      <td>NaN</td>\n      <td>NaN</td>\n    </tr>\n    <tr>\n      <th>NaN</th>\n      <td>OnePlus 7T</td>\n      <td>Android</td>\n      <td>T-Mobile</td>\n      <td>Silver</td>\n      <td>128 GB</td>\n      <td>Sep 24, 2020</td>\n      <td>Oct 21, 2020</td>\n      <td>NaN</td>\n      <td>71</td>\n      <td>1</td>\n      <td>389</td>\n      <td>New</td>\n      <td>**🚚FREE PRIORITY SHIPPING🚚 ** 🎁NEW IN BOX 🎁 ON...</td>\n      <td>THIS IS A ONEPLUS 7T (T-MOBILE)\\nFOR T-MOBILE\\...</td>\n      <td>NaN</td>\n      <td>NaN</td>\n    </tr>\n    <tr>\n      <th>NaN</th>\n      <td>OnePlus 7T</td>\n      <td>Android</td>\n      <td>T-Mobile</td>\n      <td>Silver</td>\n      <td>128 GB</td>\n      <td>Oct 26, 2020</td>\n      <td>Nov 05, 2020</td>\n      <td>NaN</td>\n      <td>7</td>\n      <td>1</td>\n      <td>399</td>\n      <td>Mint</td>\n      <td>ONLY OPENED TO UNLOCK - Make an offer!</td>\n      <td>I'm new to Swappa, but I have over 500 positiv...</td>\n      <td>NaN</td>\n      <td>NaN</td>\n    </tr>\n  </tbody>\n</table>\n<p>25853 rows × 16 columns</p>\n</div>"
     },
     "metadata": {},
     "execution_count": 5
    },
    {
     "output_type": "display_data",
     "data": {
      "text/plain": "<IPython.core.display.Javascript object>",
      "application/javascript": "\n            setTimeout(function() {\n                var nbb_cell_id = 5;\n                var nbb_unformatted_code = \"df.set_index('Listing')\";\n                var nbb_formatted_code = \"df.set_index(\\\"Listing\\\")\";\n                var nbb_cells = Jupyter.notebook.get_cells();\n                for (var i = 0; i < nbb_cells.length; ++i) {\n                    if (nbb_cells[i].input_prompt_number == nbb_cell_id) {\n                        if (nbb_cells[i].get_text() == nbb_unformatted_code) {\n                             nbb_cells[i].set_text(nbb_formatted_code);\n                        }\n                        break;\n                    }\n                }\n            }, 500);\n            "
     },
     "metadata": {}
    }
   ],
   "source": [
    "df.set_index('Listing')"
   ]
  },
  {
   "cell_type": "code",
   "execution_count": 6,
   "metadata": {},
   "outputs": [
    {
     "output_type": "display_data",
     "data": {
      "text/plain": "<IPython.core.display.Javascript object>",
      "application/javascript": "\n            setTimeout(function() {\n                var nbb_cell_id = 6;\n                var nbb_unformatted_code = \"# df = df.drop('Unnamed: 0', axis=1)\";\n                var nbb_formatted_code = \"# df = df.drop('Unnamed: 0', axis=1)\";\n                var nbb_cells = Jupyter.notebook.get_cells();\n                for (var i = 0; i < nbb_cells.length; ++i) {\n                    if (nbb_cells[i].input_prompt_number == nbb_cell_id) {\n                        if (nbb_cells[i].get_text() == nbb_unformatted_code) {\n                             nbb_cells[i].set_text(nbb_formatted_code);\n                        }\n                        break;\n                    }\n                }\n            }, 500);\n            "
     },
     "metadata": {}
    }
   ],
   "source": [
    "# df = df.drop('Unnamed: 0', axis=1)"
   ]
  },
  {
   "cell_type": "code",
   "execution_count": 7,
   "metadata": {},
   "outputs": [
    {
     "output_type": "display_data",
     "data": {
      "text/plain": "<IPython.core.display.Javascript object>",
      "application/javascript": "\n            setTimeout(function() {\n                var nbb_cell_id = 7;\n                var nbb_unformatted_code = \"df.to_csv(r'C:\\\\Users\\\\ventu\\\\pyProjects\\\\Data_Science_Projects\\\\Used Phones\\\\storage.csv')\";\n                var nbb_formatted_code = \"df.to_csv(r\\\"C:\\\\Users\\\\ventu\\\\pyProjects\\\\Data_Science_Projects\\\\Used Phones\\\\storage.csv\\\")\";\n                var nbb_cells = Jupyter.notebook.get_cells();\n                for (var i = 0; i < nbb_cells.length; ++i) {\n                    if (nbb_cells[i].input_prompt_number == nbb_cell_id) {\n                        if (nbb_cells[i].get_text() == nbb_unformatted_code) {\n                             nbb_cells[i].set_text(nbb_formatted_code);\n                        }\n                        break;\n                    }\n                }\n            }, 500);\n            "
     },
     "metadata": {}
    }
   ],
   "source": [
    "df.to_csv(r'C:\\Users\\ventu\\pyProjects\\Data_Science_Projects\\Used Phones\\storage.csv')"
   ]
  },
  {
   "cell_type": "code",
   "execution_count": 8,
   "metadata": {},
   "outputs": [
    {
     "output_type": "display_data",
     "data": {
      "text/plain": "<IPython.core.display.Javascript object>",
      "application/javascript": "\n            setTimeout(function() {\n                var nbb_cell_id = 8;\n                var nbb_unformatted_code = \"df[\\\"Price\\\"] = pd.to_numeric(df[\\\"Price\\\"])\\ndf.to_csv(r'C:\\\\Users\\\\ventu\\\\pyProjects\\\\Data_Science_Projects\\\\Used Phones\\\\storage.csv')\";\n                var nbb_formatted_code = \"df[\\\"Price\\\"] = pd.to_numeric(df[\\\"Price\\\"])\\ndf.to_csv(r\\\"C:\\\\Users\\\\ventu\\\\pyProjects\\\\Data_Science_Projects\\\\Used Phones\\\\storage.csv\\\")\";\n                var nbb_cells = Jupyter.notebook.get_cells();\n                for (var i = 0; i < nbb_cells.length; ++i) {\n                    if (nbb_cells[i].input_prompt_number == nbb_cell_id) {\n                        if (nbb_cells[i].get_text() == nbb_unformatted_code) {\n                             nbb_cells[i].set_text(nbb_formatted_code);\n                        }\n                        break;\n                    }\n                }\n            }, 500);\n            "
     },
     "metadata": {}
    }
   ],
   "source": [
    "df[\"Price\"] = pd.to_numeric(df[\"Price\"])\n",
    "df.to_csv(r'C:\\Users\\ventu\\pyProjects\\Data_Science_Projects\\Used Phones\\storage.csv')"
   ]
  },
  {
   "cell_type": "code",
   "execution_count": 9,
   "metadata": {},
   "outputs": [
    {
     "output_type": "display_data",
     "data": {
      "text/plain": "<IPython.core.display.Javascript object>",
      "application/javascript": "\n            setTimeout(function() {\n                var nbb_cell_id = 9;\n                var nbb_unformatted_code = \"df2 = df.loc[df['Sold']=='Yes'].groupby('Model').Price.mean()\";\n                var nbb_formatted_code = \"df2 = df.loc[df[\\\"Sold\\\"] == \\\"Yes\\\"].groupby(\\\"Model\\\").Price.mean()\";\n                var nbb_cells = Jupyter.notebook.get_cells();\n                for (var i = 0; i < nbb_cells.length; ++i) {\n                    if (nbb_cells[i].input_prompt_number == nbb_cell_id) {\n                        if (nbb_cells[i].get_text() == nbb_unformatted_code) {\n                             nbb_cells[i].set_text(nbb_formatted_code);\n                        }\n                        break;\n                    }\n                }\n            }, 500);\n            "
     },
     "metadata": {}
    }
   ],
   "source": [
    "df2 = df.loc[df['Sold']=='Yes'].groupby('Model').Price.mean()"
   ]
  },
  {
   "cell_type": "code",
   "execution_count": 10,
   "metadata": {},
   "outputs": [
    {
     "output_type": "display_data",
     "data": {
      "application/vnd.plotly.v1+json": {
       "config": {
        "plotlyServerURL": "https://plot.ly"
       },
       "data": [
        {
         "orientation": "h",
         "type": "bar",
         "x": [
          578.347022587269,
          751.8529411764706,
          838.0274261603375,
          342.2268907563025,
          388.8478260869565,
          404.75652173913045,
          457.84397163120565,
          548.2483370288248,
          369.18213058419246,
          424.2686980609418,
          345.5209125475285,
          348.08522727272725,
          513.6173913043478,
          754.295918367347,
          585.7333333333333,
          900.7,
          408.1178082191781,
          456.18617021276594,
          662.2260061919504,
          764.8997134670487
         ],
         "y": [
          "Apple iPhone 11",
          "Apple iPhone 11 Pro",
          "Apple iPhone 11 Pro Max",
          "Apple iPhone SE 2nd Gen",
          "Apple iPhone X",
          "Apple iPhone Xr",
          "Apple iPhone Xs",
          "Apple iPhone Xs Max",
          "Google Pixel 4",
          "Google Pixel 4 XL",
          "OnePlus 7 Pro",
          "OnePlus 7T",
          "OnePlus 8",
          "OnePlus 8 Pro",
          "Samsung Galaxy Note 10 Plus",
          "Samsung Galaxy Note 20 Ultra 5G",
          "Samsung Galaxy S10",
          "Samsung Galaxy S10 Plus",
          "Samsung Galaxy S20 Plus 5G",
          "Samsung Galaxy S20 Ultra 5G"
         ]
        }
       ],
       "layout": {
        "autosize": false,
        "height": 600,
        "template": {
         "data": {
          "bar": [
           {
            "error_x": {
             "color": "#2a3f5f"
            },
            "error_y": {
             "color": "#2a3f5f"
            },
            "marker": {
             "line": {
              "color": "#E5ECF6",
              "width": 0.5
             }
            },
            "type": "bar"
           }
          ],
          "barpolar": [
           {
            "marker": {
             "line": {
              "color": "#E5ECF6",
              "width": 0.5
             }
            },
            "type": "barpolar"
           }
          ],
          "carpet": [
           {
            "aaxis": {
             "endlinecolor": "#2a3f5f",
             "gridcolor": "white",
             "linecolor": "white",
             "minorgridcolor": "white",
             "startlinecolor": "#2a3f5f"
            },
            "baxis": {
             "endlinecolor": "#2a3f5f",
             "gridcolor": "white",
             "linecolor": "white",
             "minorgridcolor": "white",
             "startlinecolor": "#2a3f5f"
            },
            "type": "carpet"
           }
          ],
          "choropleth": [
           {
            "colorbar": {
             "outlinewidth": 0,
             "ticks": ""
            },
            "type": "choropleth"
           }
          ],
          "contour": [
           {
            "colorbar": {
             "outlinewidth": 0,
             "ticks": ""
            },
            "colorscale": [
             [
              0,
              "#0d0887"
             ],
             [
              0.1111111111111111,
              "#46039f"
             ],
             [
              0.2222222222222222,
              "#7201a8"
             ],
             [
              0.3333333333333333,
              "#9c179e"
             ],
             [
              0.4444444444444444,
              "#bd3786"
             ],
             [
              0.5555555555555556,
              "#d8576b"
             ],
             [
              0.6666666666666666,
              "#ed7953"
             ],
             [
              0.7777777777777778,
              "#fb9f3a"
             ],
             [
              0.8888888888888888,
              "#fdca26"
             ],
             [
              1,
              "#f0f921"
             ]
            ],
            "type": "contour"
           }
          ],
          "contourcarpet": [
           {
            "colorbar": {
             "outlinewidth": 0,
             "ticks": ""
            },
            "type": "contourcarpet"
           }
          ],
          "heatmap": [
           {
            "colorbar": {
             "outlinewidth": 0,
             "ticks": ""
            },
            "colorscale": [
             [
              0,
              "#0d0887"
             ],
             [
              0.1111111111111111,
              "#46039f"
             ],
             [
              0.2222222222222222,
              "#7201a8"
             ],
             [
              0.3333333333333333,
              "#9c179e"
             ],
             [
              0.4444444444444444,
              "#bd3786"
             ],
             [
              0.5555555555555556,
              "#d8576b"
             ],
             [
              0.6666666666666666,
              "#ed7953"
             ],
             [
              0.7777777777777778,
              "#fb9f3a"
             ],
             [
              0.8888888888888888,
              "#fdca26"
             ],
             [
              1,
              "#f0f921"
             ]
            ],
            "type": "heatmap"
           }
          ],
          "heatmapgl": [
           {
            "colorbar": {
             "outlinewidth": 0,
             "ticks": ""
            },
            "colorscale": [
             [
              0,
              "#0d0887"
             ],
             [
              0.1111111111111111,
              "#46039f"
             ],
             [
              0.2222222222222222,
              "#7201a8"
             ],
             [
              0.3333333333333333,
              "#9c179e"
             ],
             [
              0.4444444444444444,
              "#bd3786"
             ],
             [
              0.5555555555555556,
              "#d8576b"
             ],
             [
              0.6666666666666666,
              "#ed7953"
             ],
             [
              0.7777777777777778,
              "#fb9f3a"
             ],
             [
              0.8888888888888888,
              "#fdca26"
             ],
             [
              1,
              "#f0f921"
             ]
            ],
            "type": "heatmapgl"
           }
          ],
          "histogram": [
           {
            "marker": {
             "colorbar": {
              "outlinewidth": 0,
              "ticks": ""
             }
            },
            "type": "histogram"
           }
          ],
          "histogram2d": [
           {
            "colorbar": {
             "outlinewidth": 0,
             "ticks": ""
            },
            "colorscale": [
             [
              0,
              "#0d0887"
             ],
             [
              0.1111111111111111,
              "#46039f"
             ],
             [
              0.2222222222222222,
              "#7201a8"
             ],
             [
              0.3333333333333333,
              "#9c179e"
             ],
             [
              0.4444444444444444,
              "#bd3786"
             ],
             [
              0.5555555555555556,
              "#d8576b"
             ],
             [
              0.6666666666666666,
              "#ed7953"
             ],
             [
              0.7777777777777778,
              "#fb9f3a"
             ],
             [
              0.8888888888888888,
              "#fdca26"
             ],
             [
              1,
              "#f0f921"
             ]
            ],
            "type": "histogram2d"
           }
          ],
          "histogram2dcontour": [
           {
            "colorbar": {
             "outlinewidth": 0,
             "ticks": ""
            },
            "colorscale": [
             [
              0,
              "#0d0887"
             ],
             [
              0.1111111111111111,
              "#46039f"
             ],
             [
              0.2222222222222222,
              "#7201a8"
             ],
             [
              0.3333333333333333,
              "#9c179e"
             ],
             [
              0.4444444444444444,
              "#bd3786"
             ],
             [
              0.5555555555555556,
              "#d8576b"
             ],
             [
              0.6666666666666666,
              "#ed7953"
             ],
             [
              0.7777777777777778,
              "#fb9f3a"
             ],
             [
              0.8888888888888888,
              "#fdca26"
             ],
             [
              1,
              "#f0f921"
             ]
            ],
            "type": "histogram2dcontour"
           }
          ],
          "mesh3d": [
           {
            "colorbar": {
             "outlinewidth": 0,
             "ticks": ""
            },
            "type": "mesh3d"
           }
          ],
          "parcoords": [
           {
            "line": {
             "colorbar": {
              "outlinewidth": 0,
              "ticks": ""
             }
            },
            "type": "parcoords"
           }
          ],
          "pie": [
           {
            "automargin": true,
            "type": "pie"
           }
          ],
          "scatter": [
           {
            "marker": {
             "colorbar": {
              "outlinewidth": 0,
              "ticks": ""
             }
            },
            "type": "scatter"
           }
          ],
          "scatter3d": [
           {
            "line": {
             "colorbar": {
              "outlinewidth": 0,
              "ticks": ""
             }
            },
            "marker": {
             "colorbar": {
              "outlinewidth": 0,
              "ticks": ""
             }
            },
            "type": "scatter3d"
           }
          ],
          "scattercarpet": [
           {
            "marker": {
             "colorbar": {
              "outlinewidth": 0,
              "ticks": ""
             }
            },
            "type": "scattercarpet"
           }
          ],
          "scattergeo": [
           {
            "marker": {
             "colorbar": {
              "outlinewidth": 0,
              "ticks": ""
             }
            },
            "type": "scattergeo"
           }
          ],
          "scattergl": [
           {
            "marker": {
             "colorbar": {
              "outlinewidth": 0,
              "ticks": ""
             }
            },
            "type": "scattergl"
           }
          ],
          "scattermapbox": [
           {
            "marker": {
             "colorbar": {
              "outlinewidth": 0,
              "ticks": ""
             }
            },
            "type": "scattermapbox"
           }
          ],
          "scatterpolar": [
           {
            "marker": {
             "colorbar": {
              "outlinewidth": 0,
              "ticks": ""
             }
            },
            "type": "scatterpolar"
           }
          ],
          "scatterpolargl": [
           {
            "marker": {
             "colorbar": {
              "outlinewidth": 0,
              "ticks": ""
             }
            },
            "type": "scatterpolargl"
           }
          ],
          "scatterternary": [
           {
            "marker": {
             "colorbar": {
              "outlinewidth": 0,
              "ticks": ""
             }
            },
            "type": "scatterternary"
           }
          ],
          "surface": [
           {
            "colorbar": {
             "outlinewidth": 0,
             "ticks": ""
            },
            "colorscale": [
             [
              0,
              "#0d0887"
             ],
             [
              0.1111111111111111,
              "#46039f"
             ],
             [
              0.2222222222222222,
              "#7201a8"
             ],
             [
              0.3333333333333333,
              "#9c179e"
             ],
             [
              0.4444444444444444,
              "#bd3786"
             ],
             [
              0.5555555555555556,
              "#d8576b"
             ],
             [
              0.6666666666666666,
              "#ed7953"
             ],
             [
              0.7777777777777778,
              "#fb9f3a"
             ],
             [
              0.8888888888888888,
              "#fdca26"
             ],
             [
              1,
              "#f0f921"
             ]
            ],
            "type": "surface"
           }
          ],
          "table": [
           {
            "cells": {
             "fill": {
              "color": "#EBF0F8"
             },
             "line": {
              "color": "white"
             }
            },
            "header": {
             "fill": {
              "color": "#C8D4E3"
             },
             "line": {
              "color": "white"
             }
            },
            "type": "table"
           }
          ]
         },
         "layout": {
          "annotationdefaults": {
           "arrowcolor": "#2a3f5f",
           "arrowhead": 0,
           "arrowwidth": 1
          },
          "coloraxis": {
           "colorbar": {
            "outlinewidth": 0,
            "ticks": ""
           }
          },
          "colorscale": {
           "diverging": [
            [
             0,
             "#8e0152"
            ],
            [
             0.1,
             "#c51b7d"
            ],
            [
             0.2,
             "#de77ae"
            ],
            [
             0.3,
             "#f1b6da"
            ],
            [
             0.4,
             "#fde0ef"
            ],
            [
             0.5,
             "#f7f7f7"
            ],
            [
             0.6,
             "#e6f5d0"
            ],
            [
             0.7,
             "#b8e186"
            ],
            [
             0.8,
             "#7fbc41"
            ],
            [
             0.9,
             "#4d9221"
            ],
            [
             1,
             "#276419"
            ]
           ],
           "sequential": [
            [
             0,
             "#0d0887"
            ],
            [
             0.1111111111111111,
             "#46039f"
            ],
            [
             0.2222222222222222,
             "#7201a8"
            ],
            [
             0.3333333333333333,
             "#9c179e"
            ],
            [
             0.4444444444444444,
             "#bd3786"
            ],
            [
             0.5555555555555556,
             "#d8576b"
            ],
            [
             0.6666666666666666,
             "#ed7953"
            ],
            [
             0.7777777777777778,
             "#fb9f3a"
            ],
            [
             0.8888888888888888,
             "#fdca26"
            ],
            [
             1,
             "#f0f921"
            ]
           ],
           "sequentialminus": [
            [
             0,
             "#0d0887"
            ],
            [
             0.1111111111111111,
             "#46039f"
            ],
            [
             0.2222222222222222,
             "#7201a8"
            ],
            [
             0.3333333333333333,
             "#9c179e"
            ],
            [
             0.4444444444444444,
             "#bd3786"
            ],
            [
             0.5555555555555556,
             "#d8576b"
            ],
            [
             0.6666666666666666,
             "#ed7953"
            ],
            [
             0.7777777777777778,
             "#fb9f3a"
            ],
            [
             0.8888888888888888,
             "#fdca26"
            ],
            [
             1,
             "#f0f921"
            ]
           ]
          },
          "colorway": [
           "#636efa",
           "#EF553B",
           "#00cc96",
           "#ab63fa",
           "#FFA15A",
           "#19d3f3",
           "#FF6692",
           "#B6E880",
           "#FF97FF",
           "#FECB52"
          ],
          "font": {
           "color": "#2a3f5f"
          },
          "geo": {
           "bgcolor": "white",
           "lakecolor": "white",
           "landcolor": "#E5ECF6",
           "showlakes": true,
           "showland": true,
           "subunitcolor": "white"
          },
          "hoverlabel": {
           "align": "left"
          },
          "hovermode": "closest",
          "mapbox": {
           "style": "light"
          },
          "paper_bgcolor": "white",
          "plot_bgcolor": "#E5ECF6",
          "polar": {
           "angularaxis": {
            "gridcolor": "white",
            "linecolor": "white",
            "ticks": ""
           },
           "bgcolor": "#E5ECF6",
           "radialaxis": {
            "gridcolor": "white",
            "linecolor": "white",
            "ticks": ""
           }
          },
          "scene": {
           "xaxis": {
            "backgroundcolor": "#E5ECF6",
            "gridcolor": "white",
            "gridwidth": 2,
            "linecolor": "white",
            "showbackground": true,
            "ticks": "",
            "zerolinecolor": "white"
           },
           "yaxis": {
            "backgroundcolor": "#E5ECF6",
            "gridcolor": "white",
            "gridwidth": 2,
            "linecolor": "white",
            "showbackground": true,
            "ticks": "",
            "zerolinecolor": "white"
           },
           "zaxis": {
            "backgroundcolor": "#E5ECF6",
            "gridcolor": "white",
            "gridwidth": 2,
            "linecolor": "white",
            "showbackground": true,
            "ticks": "",
            "zerolinecolor": "white"
           }
          },
          "shapedefaults": {
           "line": {
            "color": "#2a3f5f"
           }
          },
          "ternary": {
           "aaxis": {
            "gridcolor": "white",
            "linecolor": "white",
            "ticks": ""
           },
           "baxis": {
            "gridcolor": "white",
            "linecolor": "white",
            "ticks": ""
           },
           "bgcolor": "#E5ECF6",
           "caxis": {
            "gridcolor": "white",
            "linecolor": "white",
            "ticks": ""
           }
          },
          "title": {
           "x": 0.05
          },
          "xaxis": {
           "automargin": true,
           "gridcolor": "white",
           "linecolor": "white",
           "ticks": "",
           "title": {
            "standoff": 15
           },
           "zerolinecolor": "white",
           "zerolinewidth": 2
          },
          "yaxis": {
           "automargin": true,
           "gridcolor": "white",
           "linecolor": "white",
           "ticks": "",
           "title": {
            "standoff": 15
           },
           "zerolinecolor": "white",
           "zerolinewidth": 2
          }
         }
        },
        "yaxis": {
         "categoryorder": "total ascending"
        }
       }
      }
     },
     "metadata": {}
    },
    {
     "output_type": "display_data",
     "data": {
      "text/plain": "<IPython.core.display.Javascript object>",
      "application/javascript": "\n            setTimeout(function() {\n                var nbb_cell_id = 10;\n                var nbb_unformatted_code = \"import plotly.graph_objects as go\\n\\nfig = go.Figure(go.Bar(\\n    orientation=\\\"h\\\",\\n    x = df2.values,\\n    y = df2.index))\\n\\nfig.update_layout(\\n    autosize=False,\\n    height=600,\\n    yaxis={'categoryorder':'total ascending'},\\n)\\n\\nfig.show()\";\n                var nbb_formatted_code = \"import plotly.graph_objects as go\\n\\nfig = go.Figure(go.Bar(orientation=\\\"h\\\", x=df2.values, y=df2.index))\\n\\nfig.update_layout(\\n    autosize=False,\\n    height=600,\\n    yaxis={\\\"categoryorder\\\": \\\"total ascending\\\"},\\n)\\n\\nfig.show()\";\n                var nbb_cells = Jupyter.notebook.get_cells();\n                for (var i = 0; i < nbb_cells.length; ++i) {\n                    if (nbb_cells[i].input_prompt_number == nbb_cell_id) {\n                        if (nbb_cells[i].get_text() == nbb_unformatted_code) {\n                             nbb_cells[i].set_text(nbb_formatted_code);\n                        }\n                        break;\n                    }\n                }\n            }, 500);\n            "
     },
     "metadata": {}
    }
   ],
   "source": [
    "import plotly.graph_objects as go\n",
    "\n",
    "fig = go.Figure(go.Bar(\n",
    "    orientation=\"h\",\n",
    "    x = df2.values,\n",
    "    y = df2.index))\n",
    "\n",
    "fig.update_layout(\n",
    "    autosize=False,\n",
    "    height=600,\n",
    "    yaxis={'categoryorder':'total ascending'},\n",
    ")\n",
    "\n",
    "fig.show()"
   ]
  },
  {
   "cell_type": "code",
   "execution_count": 11,
   "metadata": {},
   "outputs": [
    {
     "output_type": "display_data",
     "data": {
      "application/vnd.plotly.v1+json": {
       "config": {
        "plotlyServerURL": "https://plot.ly"
       },
       "data": [
        {
         "type": "bar",
         "x": [
          20,
          14,
          23
         ],
         "y": [
          "giraffes",
          "orangutans",
          "monkeys"
         ]
        }
       ],
       "layout": {
        "template": {
         "data": {
          "bar": [
           {
            "error_x": {
             "color": "#2a3f5f"
            },
            "error_y": {
             "color": "#2a3f5f"
            },
            "marker": {
             "line": {
              "color": "#E5ECF6",
              "width": 0.5
             }
            },
            "type": "bar"
           }
          ],
          "barpolar": [
           {
            "marker": {
             "line": {
              "color": "#E5ECF6",
              "width": 0.5
             }
            },
            "type": "barpolar"
           }
          ],
          "carpet": [
           {
            "aaxis": {
             "endlinecolor": "#2a3f5f",
             "gridcolor": "white",
             "linecolor": "white",
             "minorgridcolor": "white",
             "startlinecolor": "#2a3f5f"
            },
            "baxis": {
             "endlinecolor": "#2a3f5f",
             "gridcolor": "white",
             "linecolor": "white",
             "minorgridcolor": "white",
             "startlinecolor": "#2a3f5f"
            },
            "type": "carpet"
           }
          ],
          "choropleth": [
           {
            "colorbar": {
             "outlinewidth": 0,
             "ticks": ""
            },
            "type": "choropleth"
           }
          ],
          "contour": [
           {
            "colorbar": {
             "outlinewidth": 0,
             "ticks": ""
            },
            "colorscale": [
             [
              0,
              "#0d0887"
             ],
             [
              0.1111111111111111,
              "#46039f"
             ],
             [
              0.2222222222222222,
              "#7201a8"
             ],
             [
              0.3333333333333333,
              "#9c179e"
             ],
             [
              0.4444444444444444,
              "#bd3786"
             ],
             [
              0.5555555555555556,
              "#d8576b"
             ],
             [
              0.6666666666666666,
              "#ed7953"
             ],
             [
              0.7777777777777778,
              "#fb9f3a"
             ],
             [
              0.8888888888888888,
              "#fdca26"
             ],
             [
              1,
              "#f0f921"
             ]
            ],
            "type": "contour"
           }
          ],
          "contourcarpet": [
           {
            "colorbar": {
             "outlinewidth": 0,
             "ticks": ""
            },
            "type": "contourcarpet"
           }
          ],
          "heatmap": [
           {
            "colorbar": {
             "outlinewidth": 0,
             "ticks": ""
            },
            "colorscale": [
             [
              0,
              "#0d0887"
             ],
             [
              0.1111111111111111,
              "#46039f"
             ],
             [
              0.2222222222222222,
              "#7201a8"
             ],
             [
              0.3333333333333333,
              "#9c179e"
             ],
             [
              0.4444444444444444,
              "#bd3786"
             ],
             [
              0.5555555555555556,
              "#d8576b"
             ],
             [
              0.6666666666666666,
              "#ed7953"
             ],
             [
              0.7777777777777778,
              "#fb9f3a"
             ],
             [
              0.8888888888888888,
              "#fdca26"
             ],
             [
              1,
              "#f0f921"
             ]
            ],
            "type": "heatmap"
           }
          ],
          "heatmapgl": [
           {
            "colorbar": {
             "outlinewidth": 0,
             "ticks": ""
            },
            "colorscale": [
             [
              0,
              "#0d0887"
             ],
             [
              0.1111111111111111,
              "#46039f"
             ],
             [
              0.2222222222222222,
              "#7201a8"
             ],
             [
              0.3333333333333333,
              "#9c179e"
             ],
             [
              0.4444444444444444,
              "#bd3786"
             ],
             [
              0.5555555555555556,
              "#d8576b"
             ],
             [
              0.6666666666666666,
              "#ed7953"
             ],
             [
              0.7777777777777778,
              "#fb9f3a"
             ],
             [
              0.8888888888888888,
              "#fdca26"
             ],
             [
              1,
              "#f0f921"
             ]
            ],
            "type": "heatmapgl"
           }
          ],
          "histogram": [
           {
            "marker": {
             "colorbar": {
              "outlinewidth": 0,
              "ticks": ""
             }
            },
            "type": "histogram"
           }
          ],
          "histogram2d": [
           {
            "colorbar": {
             "outlinewidth": 0,
             "ticks": ""
            },
            "colorscale": [
             [
              0,
              "#0d0887"
             ],
             [
              0.1111111111111111,
              "#46039f"
             ],
             [
              0.2222222222222222,
              "#7201a8"
             ],
             [
              0.3333333333333333,
              "#9c179e"
             ],
             [
              0.4444444444444444,
              "#bd3786"
             ],
             [
              0.5555555555555556,
              "#d8576b"
             ],
             [
              0.6666666666666666,
              "#ed7953"
             ],
             [
              0.7777777777777778,
              "#fb9f3a"
             ],
             [
              0.8888888888888888,
              "#fdca26"
             ],
             [
              1,
              "#f0f921"
             ]
            ],
            "type": "histogram2d"
           }
          ],
          "histogram2dcontour": [
           {
            "colorbar": {
             "outlinewidth": 0,
             "ticks": ""
            },
            "colorscale": [
             [
              0,
              "#0d0887"
             ],
             [
              0.1111111111111111,
              "#46039f"
             ],
             [
              0.2222222222222222,
              "#7201a8"
             ],
             [
              0.3333333333333333,
              "#9c179e"
             ],
             [
              0.4444444444444444,
              "#bd3786"
             ],
             [
              0.5555555555555556,
              "#d8576b"
             ],
             [
              0.6666666666666666,
              "#ed7953"
             ],
             [
              0.7777777777777778,
              "#fb9f3a"
             ],
             [
              0.8888888888888888,
              "#fdca26"
             ],
             [
              1,
              "#f0f921"
             ]
            ],
            "type": "histogram2dcontour"
           }
          ],
          "mesh3d": [
           {
            "colorbar": {
             "outlinewidth": 0,
             "ticks": ""
            },
            "type": "mesh3d"
           }
          ],
          "parcoords": [
           {
            "line": {
             "colorbar": {
              "outlinewidth": 0,
              "ticks": ""
             }
            },
            "type": "parcoords"
           }
          ],
          "pie": [
           {
            "automargin": true,
            "type": "pie"
           }
          ],
          "scatter": [
           {
            "marker": {
             "colorbar": {
              "outlinewidth": 0,
              "ticks": ""
             }
            },
            "type": "scatter"
           }
          ],
          "scatter3d": [
           {
            "line": {
             "colorbar": {
              "outlinewidth": 0,
              "ticks": ""
             }
            },
            "marker": {
             "colorbar": {
              "outlinewidth": 0,
              "ticks": ""
             }
            },
            "type": "scatter3d"
           }
          ],
          "scattercarpet": [
           {
            "marker": {
             "colorbar": {
              "outlinewidth": 0,
              "ticks": ""
             }
            },
            "type": "scattercarpet"
           }
          ],
          "scattergeo": [
           {
            "marker": {
             "colorbar": {
              "outlinewidth": 0,
              "ticks": ""
             }
            },
            "type": "scattergeo"
           }
          ],
          "scattergl": [
           {
            "marker": {
             "colorbar": {
              "outlinewidth": 0,
              "ticks": ""
             }
            },
            "type": "scattergl"
           }
          ],
          "scattermapbox": [
           {
            "marker": {
             "colorbar": {
              "outlinewidth": 0,
              "ticks": ""
             }
            },
            "type": "scattermapbox"
           }
          ],
          "scatterpolar": [
           {
            "marker": {
             "colorbar": {
              "outlinewidth": 0,
              "ticks": ""
             }
            },
            "type": "scatterpolar"
           }
          ],
          "scatterpolargl": [
           {
            "marker": {
             "colorbar": {
              "outlinewidth": 0,
              "ticks": ""
             }
            },
            "type": "scatterpolargl"
           }
          ],
          "scatterternary": [
           {
            "marker": {
             "colorbar": {
              "outlinewidth": 0,
              "ticks": ""
             }
            },
            "type": "scatterternary"
           }
          ],
          "surface": [
           {
            "colorbar": {
             "outlinewidth": 0,
             "ticks": ""
            },
            "colorscale": [
             [
              0,
              "#0d0887"
             ],
             [
              0.1111111111111111,
              "#46039f"
             ],
             [
              0.2222222222222222,
              "#7201a8"
             ],
             [
              0.3333333333333333,
              "#9c179e"
             ],
             [
              0.4444444444444444,
              "#bd3786"
             ],
             [
              0.5555555555555556,
              "#d8576b"
             ],
             [
              0.6666666666666666,
              "#ed7953"
             ],
             [
              0.7777777777777778,
              "#fb9f3a"
             ],
             [
              0.8888888888888888,
              "#fdca26"
             ],
             [
              1,
              "#f0f921"
             ]
            ],
            "type": "surface"
           }
          ],
          "table": [
           {
            "cells": {
             "fill": {
              "color": "#EBF0F8"
             },
             "line": {
              "color": "white"
             }
            },
            "header": {
             "fill": {
              "color": "#C8D4E3"
             },
             "line": {
              "color": "white"
             }
            },
            "type": "table"
           }
          ]
         },
         "layout": {
          "annotationdefaults": {
           "arrowcolor": "#2a3f5f",
           "arrowhead": 0,
           "arrowwidth": 1
          },
          "coloraxis": {
           "colorbar": {
            "outlinewidth": 0,
            "ticks": ""
           }
          },
          "colorscale": {
           "diverging": [
            [
             0,
             "#8e0152"
            ],
            [
             0.1,
             "#c51b7d"
            ],
            [
             0.2,
             "#de77ae"
            ],
            [
             0.3,
             "#f1b6da"
            ],
            [
             0.4,
             "#fde0ef"
            ],
            [
             0.5,
             "#f7f7f7"
            ],
            [
             0.6,
             "#e6f5d0"
            ],
            [
             0.7,
             "#b8e186"
            ],
            [
             0.8,
             "#7fbc41"
            ],
            [
             0.9,
             "#4d9221"
            ],
            [
             1,
             "#276419"
            ]
           ],
           "sequential": [
            [
             0,
             "#0d0887"
            ],
            [
             0.1111111111111111,
             "#46039f"
            ],
            [
             0.2222222222222222,
             "#7201a8"
            ],
            [
             0.3333333333333333,
             "#9c179e"
            ],
            [
             0.4444444444444444,
             "#bd3786"
            ],
            [
             0.5555555555555556,
             "#d8576b"
            ],
            [
             0.6666666666666666,
             "#ed7953"
            ],
            [
             0.7777777777777778,
             "#fb9f3a"
            ],
            [
             0.8888888888888888,
             "#fdca26"
            ],
            [
             1,
             "#f0f921"
            ]
           ],
           "sequentialminus": [
            [
             0,
             "#0d0887"
            ],
            [
             0.1111111111111111,
             "#46039f"
            ],
            [
             0.2222222222222222,
             "#7201a8"
            ],
            [
             0.3333333333333333,
             "#9c179e"
            ],
            [
             0.4444444444444444,
             "#bd3786"
            ],
            [
             0.5555555555555556,
             "#d8576b"
            ],
            [
             0.6666666666666666,
             "#ed7953"
            ],
            [
             0.7777777777777778,
             "#fb9f3a"
            ],
            [
             0.8888888888888888,
             "#fdca26"
            ],
            [
             1,
             "#f0f921"
            ]
           ]
          },
          "colorway": [
           "#636efa",
           "#EF553B",
           "#00cc96",
           "#ab63fa",
           "#FFA15A",
           "#19d3f3",
           "#FF6692",
           "#B6E880",
           "#FF97FF",
           "#FECB52"
          ],
          "font": {
           "color": "#2a3f5f"
          },
          "geo": {
           "bgcolor": "white",
           "lakecolor": "white",
           "landcolor": "#E5ECF6",
           "showlakes": true,
           "showland": true,
           "subunitcolor": "white"
          },
          "hoverlabel": {
           "align": "left"
          },
          "hovermode": "closest",
          "mapbox": {
           "style": "light"
          },
          "paper_bgcolor": "white",
          "plot_bgcolor": "#E5ECF6",
          "polar": {
           "angularaxis": {
            "gridcolor": "white",
            "linecolor": "white",
            "ticks": ""
           },
           "bgcolor": "#E5ECF6",
           "radialaxis": {
            "gridcolor": "white",
            "linecolor": "white",
            "ticks": ""
           }
          },
          "scene": {
           "xaxis": {
            "backgroundcolor": "#E5ECF6",
            "gridcolor": "white",
            "gridwidth": 2,
            "linecolor": "white",
            "showbackground": true,
            "ticks": "",
            "zerolinecolor": "white"
           },
           "yaxis": {
            "backgroundcolor": "#E5ECF6",
            "gridcolor": "white",
            "gridwidth": 2,
            "linecolor": "white",
            "showbackground": true,
            "ticks": "",
            "zerolinecolor": "white"
           },
           "zaxis": {
            "backgroundcolor": "#E5ECF6",
            "gridcolor": "white",
            "gridwidth": 2,
            "linecolor": "white",
            "showbackground": true,
            "ticks": "",
            "zerolinecolor": "white"
           }
          },
          "shapedefaults": {
           "line": {
            "color": "#2a3f5f"
           }
          },
          "ternary": {
           "aaxis": {
            "gridcolor": "white",
            "linecolor": "white",
            "ticks": ""
           },
           "baxis": {
            "gridcolor": "white",
            "linecolor": "white",
            "ticks": ""
           },
           "bgcolor": "#E5ECF6",
           "caxis": {
            "gridcolor": "white",
            "linecolor": "white",
            "ticks": ""
           }
          },
          "title": {
           "x": 0.05
          },
          "xaxis": {
           "automargin": true,
           "gridcolor": "white",
           "linecolor": "white",
           "ticks": "",
           "title": {
            "standoff": 15
           },
           "zerolinecolor": "white",
           "zerolinewidth": 2
          },
          "yaxis": {
           "automargin": true,
           "gridcolor": "white",
           "linecolor": "white",
           "ticks": "",
           "title": {
            "standoff": 15
           },
           "zerolinecolor": "white",
           "zerolinewidth": 2
          }
         }
        }
       }
      }
     },
     "metadata": {}
    },
    {
     "output_type": "display_data",
     "data": {
      "text/plain": "<IPython.core.display.Javascript object>",
      "application/javascript": "\n            setTimeout(function() {\n                var nbb_cell_id = 11;\n                var nbb_unformatted_code = \"import plotly.graph_objects as go\\n\\nfig = go.Figure(go.Bar(\\n            x=[20, 14, 23],\\n            y=['giraffes', 'orangutans', 'monkeys']))\\n\\nfig.show()\";\n                var nbb_formatted_code = \"import plotly.graph_objects as go\\n\\nfig = go.Figure(go.Bar(x=[20, 14, 23], y=[\\\"giraffes\\\", \\\"orangutans\\\", \\\"monkeys\\\"]))\\n\\nfig.show()\";\n                var nbb_cells = Jupyter.notebook.get_cells();\n                for (var i = 0; i < nbb_cells.length; ++i) {\n                    if (nbb_cells[i].input_prompt_number == nbb_cell_id) {\n                        if (nbb_cells[i].get_text() == nbb_unformatted_code) {\n                             nbb_cells[i].set_text(nbb_formatted_code);\n                        }\n                        break;\n                    }\n                }\n            }, 500);\n            "
     },
     "metadata": {}
    }
   ],
   "source": [
    "import plotly.graph_objects as go\n",
    "\n",
    "fig = go.Figure(go.Bar(\n",
    "            x=[20, 14, 23],\n",
    "            y=['giraffes', 'orangutans', 'monkeys']))\n",
    "\n",
    "fig.show()"
   ]
  },
  {
   "cell_type": "code",
   "execution_count": null,
   "metadata": {},
   "outputs": [],
   "source": []
  }
 ]
}