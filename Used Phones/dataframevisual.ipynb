{
 "cells": [
  {
   "cell_type": "markdown",
   "metadata": {},
   "source": [
    "# Purpose\n",
    "\n",
    "* Want to evaluate what factors contribute to a phone's sale price"
   ]
  },
  {
   "cell_type": "code",
   "execution_count": 114,
   "metadata": {},
   "outputs": [
    {
     "name": "stdout",
     "output_type": "stream",
     "text": [
      "The nb_black extension is already loaded. To reload it, use:\n",
      "  %reload_ext nb_black\n"
     ]
    },
    {
     "data": {
      "application/javascript": "\n            setTimeout(function() {\n                var nbb_cell_id = 114;\n                var nbb_unformatted_code = \"%load_ext nb_black\\nimport pandas as pd\\nimport numpy as np\\nimport regex as re\\nimport matplotlib.pyplot as plt\\nfrom sklearn.preprocessing import StandardScaler\\nfrom sklearn.model_selection import train_test_split\\nfrom sklearn.model_selection import cross_val_score\\nfrom sklearn.model_selection import RepeatedKFold\\nfrom sklearn.pipeline import Pipeline\\nfrom sklearn.linear_model import LinearRegression\\nfrom xgboost import XGBRegressor\";\n                var nbb_formatted_code = \"%load_ext nb_black\\nimport pandas as pd\\nimport numpy as np\\nimport regex as re\\nimport matplotlib.pyplot as plt\\nfrom sklearn.preprocessing import StandardScaler\\nfrom sklearn.model_selection import train_test_split\\nfrom sklearn.model_selection import cross_val_score\\nfrom sklearn.model_selection import RepeatedKFold\\nfrom sklearn.pipeline import Pipeline\\nfrom sklearn.linear_model import LinearRegression\\nfrom xgboost import XGBRegressor\";\n                var nbb_cells = Jupyter.notebook.get_cells();\n                for (var i = 0; i < nbb_cells.length; ++i) {\n                    if (nbb_cells[i].input_prompt_number == nbb_cell_id) {\n                        if (nbb_cells[i].get_text() == nbb_unformatted_code) {\n                             nbb_cells[i].set_text(nbb_formatted_code);\n                        }\n                        break;\n                    }\n                }\n            }, 500);\n            ",
      "text/plain": [
       "<IPython.core.display.Javascript object>"
      ]
     },
     "metadata": {},
     "output_type": "display_data"
    }
   ],
   "source": [
    "%load_ext nb_black\n",
    "import pandas as pd\n",
    "import numpy as np\n",
    "import regex as re\n",
    "import matplotlib.pyplot as plt\n",
    "from sklearn.preprocessing import StandardScaler\n",
    "from sklearn.model_selection import train_test_split\n",
    "from sklearn.model_selection import cross_val_score\n",
    "from sklearn.model_selection import RepeatedKFold\n",
    "from sklearn.pipeline import Pipeline\n",
    "from sklearn.linear_model import LinearRegression\n",
    "from xgboost import XGBRegressor"
   ]
  },
  {
   "cell_type": "code",
   "execution_count": 115,
   "metadata": {
    "tags": []
   },
   "outputs": [
    {
     "name": "stderr",
     "output_type": "stream",
     "text": [
      "C:\\Users\\ventu\\.conda\\envs\\data\\lib\\site-packages\\IPython\\core\\interactiveshell.py:3444: DtypeWarning: Columns (1,2) have mixed types.Specify dtype option on import or set low_memory=False.\n",
      "  exec(code_obj, self.user_global_ns, self.user_ns)\n"
     ]
    },
    {
     "data": {
      "application/javascript": "\n            setTimeout(function() {\n                var nbb_cell_id = 115;\n                var nbb_unformatted_code = \"df = pd.read_csv(r'C:\\\\Users\\\\ventu\\\\Python\\\\Data_Science_Projects\\\\Used Phones\\\\storage.csv',index_col=[0])\\ndf.drop(df.columns[df.columns.str.contains('unnamed',case = False)],axis = 1, inplace = True)\\n# Dropping columns that require NLP for now\\ndf = df.drop(['Listing', 'Title', 'Description', 'ExpiredDate', 'Damage'], axis=1)\\ndf = df[df.Sold.notnull() == True]\\ndf = df.reset_index(drop=True)\";\n                var nbb_formatted_code = \"df = pd.read_csv(\\n    r\\\"C:\\\\Users\\\\ventu\\\\Python\\\\Data_Science_Projects\\\\Used Phones\\\\storage.csv\\\",\\n    index_col=[0],\\n)\\ndf.drop(\\n    df.columns[df.columns.str.contains(\\\"unnamed\\\", case=False)], axis=1, inplace=True\\n)\\n# Dropping columns that require NLP for now\\ndf = df.drop([\\\"Listing\\\", \\\"Title\\\", \\\"Description\\\", \\\"ExpiredDate\\\", \\\"Damage\\\"], axis=1)\\ndf = df[df.Sold.notnull() == True]\\ndf = df.reset_index(drop=True)\";\n                var nbb_cells = Jupyter.notebook.get_cells();\n                for (var i = 0; i < nbb_cells.length; ++i) {\n                    if (nbb_cells[i].input_prompt_number == nbb_cell_id) {\n                        if (nbb_cells[i].get_text() == nbb_unformatted_code) {\n                             nbb_cells[i].set_text(nbb_formatted_code);\n                        }\n                        break;\n                    }\n                }\n            }, 500);\n            ",
      "text/plain": [
       "<IPython.core.display.Javascript object>"
      ]
     },
     "metadata": {},
     "output_type": "display_data"
    }
   ],
   "source": [
    "df = pd.read_csv(r'C:\\Users\\ventu\\Python\\Data_Science_Projects\\Used Phones\\storage.csv',index_col=[0])\n",
    "df.drop(df.columns[df.columns.str.contains('unnamed',case = False)],axis = 1, inplace = True)\n",
    "# Dropping columns that require NLP for now\n",
    "df = df.drop(['Listing', 'Title', 'Description', 'ExpiredDate', 'Damage'], axis=1)\n",
    "df = df[df.Sold.notnull() == True]\n",
    "df = df.reset_index(drop=True)"
   ]
  },
  {
   "cell_type": "markdown",
   "metadata": {},
   "source": [
    "## Useful Functions"
   ]
  },
  {
   "cell_type": "code",
   "execution_count": 116,
   "metadata": {},
   "outputs": [
    {
     "data": {
      "application/javascript": "\n            setTimeout(function() {\n                var nbb_cell_id = 116;\n                var nbb_unformatted_code = \"def encode_and_bind(original_dataframe, feature_to_encode):\\n    \\\"\\\"\\\"\\n    Transform categorical variables using one hot encoding and outputs dataframe with original variable replaced by dummy variables.\\n    :Params:\\n        :original_dataframe: pandas dataframe\\n        :feature_to_encode: string name of column to be encoded\\n    :Returns\\n        :dataframe with original column removed and nominal encoding set\\n    \\\"\\\"\\\"\\n    dummies = pd.get_dummies(original_dataframe[[feature_to_encode]])\\n    res = pd.concat([original_dataframe, dummies], axis=1)\\n    res = res.drop([feature_to_encode], axis=1)\\n    return(res)\";\n                var nbb_formatted_code = \"def encode_and_bind(original_dataframe, feature_to_encode):\\n    \\\"\\\"\\\"\\n    Transform categorical variables using one hot encoding and outputs dataframe with original variable replaced by dummy variables.\\n    :Params:\\n        :original_dataframe: pandas dataframe\\n        :feature_to_encode: string name of column to be encoded\\n    :Returns\\n        :dataframe with original column removed and nominal encoding set\\n    \\\"\\\"\\\"\\n    dummies = pd.get_dummies(original_dataframe[[feature_to_encode]])\\n    res = pd.concat([original_dataframe, dummies], axis=1)\\n    res = res.drop([feature_to_encode], axis=1)\\n    return res\";\n                var nbb_cells = Jupyter.notebook.get_cells();\n                for (var i = 0; i < nbb_cells.length; ++i) {\n                    if (nbb_cells[i].input_prompt_number == nbb_cell_id) {\n                        if (nbb_cells[i].get_text() == nbb_unformatted_code) {\n                             nbb_cells[i].set_text(nbb_formatted_code);\n                        }\n                        break;\n                    }\n                }\n            }, 500);\n            ",
      "text/plain": [
       "<IPython.core.display.Javascript object>"
      ]
     },
     "metadata": {},
     "output_type": "display_data"
    }
   ],
   "source": [
    "def encode_and_bind(original_dataframe, feature_to_encode):\n",
    "    \"\"\"\n",
    "    Transform categorical variables using one hot encoding and outputs dataframe with original variable replaced by dummy variables.\n",
    "    :Params:\n",
    "        :original_dataframe: pandas dataframe\n",
    "        :feature_to_encode: string name of column to be encoded\n",
    "    :Returns\n",
    "        :dataframe with original column removed and nominal encoding set\n",
    "    \"\"\"\n",
    "    dummies = pd.get_dummies(original_dataframe[[feature_to_encode]])\n",
    "    res = pd.concat([original_dataframe, dummies], axis=1)\n",
    "    res = res.drop([feature_to_encode], axis=1)\n",
    "    return(res)"
   ]
  },
  {
   "cell_type": "markdown",
   "metadata": {},
   "source": [
    "## Preprocessing\n",
    "\n",
    "### 1. Data Type Transformations\n",
    "* Transform numeric string values into numeric\n",
    "* Encode Categorical Variables\n",
    "* Change string dates to dateime"
   ]
  },
  {
   "cell_type": "code",
   "execution_count": 117,
   "metadata": {},
   "outputs": [
    {
     "data": {
      "application/javascript": "\n            setTimeout(function() {\n                var nbb_cell_id = 117;\n                var nbb_unformatted_code = \"# Removes the GB from storage and turns it into an int (could think about using this as categorical instead)\\ndf.Storage = df.Storage.apply(lambda x: int(re.sub(\\\"[^0-9]\\\", \\\"\\\", x)))\\n\\n# Changing string dates into datetime format\\ndf.ListDate = pd.to_datetime(df.ListDate, format=\\\"%b %d, %Y\\\")\\ndf.SaleDate = pd.to_datetime(df.SaleDate, format=\\\"%b %d, %Y\\\")\\n# df.ExpiredDate = pd.to_datetime(df.ExpiredDate, format=\\\"%b %d, %Y\\\")\\n\\n# Fill in empty values for one hot encoding\\n# df.Sold.fillna('No', inplace=True)\\n\\n# Categorize low count numbers together otherwise suspectible to overfitting\\ncolor_freq = df.Color.value_counts()\\nlow_freq_colors = color_freq[color_freq.values < int(len(df)/30)]\\ndf.Color = df.Color.apply(lambda x: 'Other' if x in low_freq_colors else x)\\n\\n# Used later in attempt to improve model\\ndf2 = df\";\n                var nbb_formatted_code = \"# Removes the GB from storage and turns it into an int (could think about using this as categorical instead)\\ndf.Storage = df.Storage.apply(lambda x: int(re.sub(\\\"[^0-9]\\\", \\\"\\\", x)))\\n\\n# Changing string dates into datetime format\\ndf.ListDate = pd.to_datetime(df.ListDate, format=\\\"%b %d, %Y\\\")\\ndf.SaleDate = pd.to_datetime(df.SaleDate, format=\\\"%b %d, %Y\\\")\\n# df.ExpiredDate = pd.to_datetime(df.ExpiredDate, format=\\\"%b %d, %Y\\\")\\n\\n# Fill in empty values for one hot encoding\\n# df.Sold.fillna('No', inplace=True)\\n\\n# Categorize low count numbers together otherwise suspectible to overfitting\\ncolor_freq = df.Color.value_counts()\\nlow_freq_colors = color_freq[color_freq.values < int(len(df) / 30)]\\ndf.Color = df.Color.apply(lambda x: \\\"Other\\\" if x in low_freq_colors else x)\\n\\n# Used later in attempt to improve model\\ndf2 = df\";\n                var nbb_cells = Jupyter.notebook.get_cells();\n                for (var i = 0; i < nbb_cells.length; ++i) {\n                    if (nbb_cells[i].input_prompt_number == nbb_cell_id) {\n                        if (nbb_cells[i].get_text() == nbb_unformatted_code) {\n                             nbb_cells[i].set_text(nbb_formatted_code);\n                        }\n                        break;\n                    }\n                }\n            }, 500);\n            ",
      "text/plain": [
       "<IPython.core.display.Javascript object>"
      ]
     },
     "metadata": {},
     "output_type": "display_data"
    }
   ],
   "source": [
    "# Removes the GB from storage and turns it into an int (could think about using this as categorical instead)\n",
    "df.Storage = df.Storage.apply(lambda x: int(re.sub(\"[^0-9]\", \"\", x)))\n",
    "\n",
    "# Changing string dates into datetime format\n",
    "df.ListDate = pd.to_datetime(df.ListDate, format=\"%b %d, %Y\")\n",
    "df.SaleDate = pd.to_datetime(df.SaleDate, format=\"%b %d, %Y\")\n",
    "# df.ExpiredDate = pd.to_datetime(df.ExpiredDate, format=\"%b %d, %Y\")\n",
    "\n",
    "# Fill in empty values for one hot encoding\n",
    "# df.Sold.fillna('No', inplace=True)\n",
    "\n",
    "# Categorize low count numbers together otherwise suspectible to overfitting\n",
    "color_freq = df.Color.value_counts()\n",
    "low_freq_colors = color_freq[color_freq.values < int(len(df)/30)]\n",
    "df.Color = df.Color.apply(lambda x: 'Other' if x in low_freq_colors else x)\n",
    "\n",
    "# Used later in attempt to improve model\n",
    "df2 = df"
   ]
  },
  {
   "cell_type": "markdown",
   "metadata": {},
   "source": [
    "### 2. Categorical Variables Encoding\n",
    "* Check value counts of each categorical variable\n",
    "* Apply one hot encoding to categorical variables"
   ]
  },
  {
   "cell_type": "code",
   "execution_count": 118,
   "metadata": {},
   "outputs": [
    {
     "name": "stdout",
     "output_type": "stream",
     "text": [
      "AxesSubplot(0.125,0.125;0.775x0.755)\n"
     ]
    },
    {
     "data": {
      "image/png": "[encoded data removed]",
      "text/plain": [
       "<Figure size 432x288 with 1 Axes>"
      ]
     },
     "metadata": {
      "needs_background": "light"
     },
     "output_type": "display_data"
    },
    {
     "name": "stdout",
     "output_type": "stream",
     "text": [
      "AxesSubplot(0.125,0.125;0.775x0.755)\n"
     ]
    },
    {
     "data": {
      "image/png": "[encoded data removed]",
      "text/plain": [
       "<Figure size 432x288 with 1 Axes>"
      ]
     },
     "metadata": {
      "needs_background": "light"
     },
     "output_type": "display_data"
    },
    {
     "name": "stdout",
     "output_type": "stream",
     "text": [
      "AxesSubplot(0.125,0.125;0.775x0.755)\n"
     ]
    },
    {
     "data": {
      "image/png": "[encoded data removed]",
      "text/plain": [
       "<Figure size 432x288 with 1 Axes>"
      ]
     },
     "metadata": {
      "needs_background": "light"
     },
     "output_type": "display_data"
    },
    {
     "name": "stdout",
     "output_type": "stream",
     "text": [
      "AxesSubplot(0.125,0.125;0.775x0.755)\n"
     ]
    },
    {
     "data": {
      "image/png": "[encoded data removed]",
      "text/plain": [
       "<Figure size 432x288 with 1 Axes>"
      ]
     },
     "metadata": {
      "needs_background": "light"
     },
     "output_type": "display_data"
    },
    {
     "name": "stdout",
     "output_type": "stream",
     "text": [
      "AxesSubplot(0.125,0.125;0.775x0.755)\n"
     ]
    },
    {
     "data": {
      "image/png": "[encoded data removed]",
      "text/plain": [
       "<Figure size 432x288 with 1 Axes>"
      ]
     },
     "metadata": {
      "needs_background": "light"
     },
     "output_type": "display_data"
    },
    {
     "name": "stdout",
     "output_type": "stream",
     "text": [
      "AxesSubplot(0.125,0.125;0.775x0.755)\n"
     ]
    },
    {
     "data": {
      "image/png": "[encoded data removed]",
      "text/plain": [
       "<Figure size 432x288 with 1 Axes>"
      ]
     },
     "metadata": {
      "needs_background": "light"
     },
     "output_type": "display_data"
    },
    {
     "data": {
      "application/javascript": "\n            setTimeout(function() {\n                var nbb_cell_id = 118;\n                var nbb_unformatted_code = \"# Check the distribution of each variable\\ncat = df.select_dtypes(include=['object']).columns.tolist()\\nfor cols in cat:\\n    print(df[cols].value_counts().plot(kind='bar'))\\n    plt.show()\";\n                var nbb_formatted_code = \"# Check the distribution of each variable\\ncat = df.select_dtypes(include=[\\\"object\\\"]).columns.tolist()\\nfor cols in cat:\\n    print(df[cols].value_counts().plot(kind=\\\"bar\\\"))\\n    plt.show()\";\n                var nbb_cells = Jupyter.notebook.get_cells();\n                for (var i = 0; i < nbb_cells.length; ++i) {\n                    if (nbb_cells[i].input_prompt_number == nbb_cell_id) {\n                        if (nbb_cells[i].get_text() == nbb_unformatted_code) {\n                             nbb_cells[i].set_text(nbb_formatted_code);\n                        }\n                        break;\n                    }\n                }\n            }, 500);\n            ",
      "text/plain": [
       "<IPython.core.display.Javascript object>"
      ]
     },
     "metadata": {},
     "output_type": "display_data"
    }
   ],
   "source": [
    "# Check the distribution of each variable\n",
    "cat = df.select_dtypes(include=['object']).columns.tolist()\n",
    "for cols in cat:\n",
    "    print(df[cols].value_counts().plot(kind='bar'))\n",
    "    plt.show()"
   ]
  },
  {
   "cell_type": "code",
   "execution_count": 124,
   "metadata": {},
   "outputs": [
    {
     "data": {
      "application/vnd.plotly.v1+json": {
       "config": {
        "plotlyServerURL": "https://plot.ly"
       },
       "data": [
        {
         "orientation": "h",
         "type": "bar",
         "x": [
          571.6545454545454,
          734.4377358490566,
          828.4715719063545,
          339.7457912457912,
          386.35181975736566,
          401.48347826086956,
          451.8860294117647,
          537.3665480427046,
          362.34139784946234,
          415.0208768267223,
          341.015243902439,
          343.2242152466368,
          504.65016501650166,
          747.2032520325204,
          581.9928186714542,
          890.4990138067061,
          406.0042194092827,
          453.6700819672131,
          653.4885321100918,
          757.0922746781116
         ],
         "y": [
          "Apple iPhone 11",
          "Apple iPhone 11 Pro",
          "Apple iPhone 11 Pro Max",
          "Apple iPhone SE 2nd Gen",
          "Apple iPhone X",
          "Apple iPhone Xr",
          "Apple iPhone Xs",
          "Apple iPhone Xs Max",
          "Google Pixel 4",
          "Google Pixel 4 XL",
          "OnePlus 7 Pro",
          "OnePlus 7T",
          "OnePlus 8",
          "OnePlus 8 Pro",
          "Samsung Galaxy Note 10 Plus",
          "Samsung Galaxy Note 20 Ultra 5G",
          "Samsung Galaxy S10",
          "Samsung Galaxy S10 Plus",
          "Samsung Galaxy S20 Plus 5G",
          "Samsung Galaxy S20 Ultra 5G"
         ]
        }
       ],
       "layout": {
        "autosize": false,
        "height": 600,
        "template": {
         "data": {
          "bar": [
           {
            "error_x": {
             "color": "#2a3f5f"
            },
            "error_y": {
             "color": "#2a3f5f"
            },
            "marker": {
             "line": {
              "color": "#E5ECF6",
              "width": 0.5
             },
             "pattern": {
              "fillmode": "overlay",
              "size": 10,
              "solidity": 0.2
             }
            },
            "type": "bar"
           }
          ],
          "barpolar": [
           {
            "marker": {
             "line": {
              "color": "#E5ECF6",
              "width": 0.5
             },
             "pattern": {
              "fillmode": "overlay",
              "size": 10,
              "solidity": 0.2
             }
            },
            "type": "barpolar"
           }
          ],
          "carpet": [
           {
            "aaxis": {
             "endlinecolor": "#2a3f5f",
             "gridcolor": "white",
             "linecolor": "white",
             "minorgridcolor": "white",
             "startlinecolor": "#2a3f5f"
            },
            "baxis": {
             "endlinecolor": "#2a3f5f",
             "gridcolor": "white",
             "linecolor": "white",
             "minorgridcolor": "white",
             "startlinecolor": "#2a3f5f"
            },
            "type": "carpet"
           }
          ],
          "choropleth": [
           {
            "colorbar": {
             "outlinewidth": 0,
             "ticks": ""
            },
            "type": "choropleth"
           }
          ],
          "contour": [
           {
            "colorbar": {
             "outlinewidth": 0,
             "ticks": ""
            },
            "colorscale": [
             [
              0,
              "#0d0887"
             ],
             [
              0.1111111111111111,
              "#46039f"
             ],
             [
              0.2222222222222222,
              "#7201a8"
             ],
             [
              0.3333333333333333,
              "#9c179e"
             ],
             [
              0.4444444444444444,
              "#bd3786"
             ],
             [
              0.5555555555555556,
              "#d8576b"
             ],
             [
              0.6666666666666666,
              "#ed7953"
             ],
             [
              0.7777777777777778,
              "#fb9f3a"
             ],
             [
              0.8888888888888888,
              "#fdca26"
             ],
             [
              1,
              "#f0f921"
             ]
            ],
            "type": "contour"
           }
          ],
          "contourcarpet": [
           {
            "colorbar": {
             "outlinewidth": 0,
             "ticks": ""
            },
            "type": "contourcarpet"
           }
          ],
          "heatmap": [
           {
            "colorbar": {
             "outlinewidth": 0,
             "ticks": ""
            },
            "colorscale": [
             [
              0,
              "#0d0887"
             ],
             [
              0.1111111111111111,
              "#46039f"
             ],
             [
              0.2222222222222222,
              "#7201a8"
             ],
             [
              0.3333333333333333,
              "#9c179e"
             ],
             [
              0.4444444444444444,
              "#bd3786"
             ],
             [
              0.5555555555555556,
              "#d8576b"
             ],
             [
              0.6666666666666666,
              "#ed7953"
             ],
             [
              0.7777777777777778,
              "#fb9f3a"
             ],
             [
              0.8888888888888888,
              "#fdca26"
             ],
             [
              1,
              "#f0f921"
             ]
            ],
            "type": "heatmap"
           }
          ],
          "heatmapgl": [
           {
            "colorbar": {
             "outlinewidth": 0,
             "ticks": ""
            },
            "colorscale": [
             [
              0,
              "#0d0887"
             ],
             [
              0.1111111111111111,
              "#46039f"
             ],
             [
              0.2222222222222222,
              "#7201a8"
             ],
             [
              0.3333333333333333,
              "#9c179e"
             ],
             [
              0.4444444444444444,
              "#bd3786"
             ],
             [
              0.5555555555555556,
              "#d8576b"
             ],
             [
              0.6666666666666666,
              "#ed7953"
             ],
             [
              0.7777777777777778,
              "#fb9f3a"
             ],
             [
              0.8888888888888888,
              "#fdca26"
             ],
             [
              1,
              "#f0f921"
             ]
            ],
            "type": "heatmapgl"
           }
          ],
          "histogram": [
           {
            "marker": {
             "pattern": {
              "fillmode": "overlay",
              "size": 10,
              "solidity": 0.2
             }
            },
            "type": "histogram"
           }
          ],
          "histogram2d": [
           {
            "colorbar": {
             "outlinewidth": 0,
             "ticks": ""
            },
            "colorscale": [
             [
              0,
              "#0d0887"
             ],
             [
              0.1111111111111111,
              "#46039f"
             ],
             [
              0.2222222222222222,
              "#7201a8"
             ],
             [
              0.3333333333333333,
              "#9c179e"
             ],
             [
              0.4444444444444444,
              "#bd3786"
             ],
             [
              0.5555555555555556,
              "#d8576b"
             ],
             [
              0.6666666666666666,
              "#ed7953"
             ],
             [
              0.7777777777777778,
              "#fb9f3a"
             ],
             [
              0.8888888888888888,
              "#fdca26"
             ],
             [
              1,
              "#f0f921"
             ]
            ],
            "type": "histogram2d"
           }
          ],
          "histogram2dcontour": [
           {
            "colorbar": {
             "outlinewidth": 0,
             "ticks": ""
            },
            "colorscale": [
             [
              0,
              "#0d0887"
             ],
             [
              0.1111111111111111,
              "#46039f"
             ],
             [
              0.2222222222222222,
              "#7201a8"
             ],
             [
              0.3333333333333333,
              "#9c179e"
             ],
             [
              0.4444444444444444,
              "#bd3786"
             ],
             [
              0.5555555555555556,
              "#d8576b"
             ],
             [
              0.6666666666666666,
              "#ed7953"
             ],
             [
              0.7777777777777778,
              "#fb9f3a"
             ],
             [
              0.8888888888888888,
              "#fdca26"
             ],
             [
              1,
              "#f0f921"
             ]
            ],
            "type": "histogram2dcontour"
           }
          ],
          "mesh3d": [
           {
            "colorbar": {
             "outlinewidth": 0,
             "ticks": ""
            },
            "type": "mesh3d"
           }
          ],
          "parcoords": [
           {
            "line": {
             "colorbar": {
              "outlinewidth": 0,
              "ticks": ""
             }
            },
            "type": "parcoords"
           }
          ],
          "pie": [
           {
            "automargin": true,
            "type": "pie"
           }
          ],
          "scatter": [
           {
            "marker": {
             "colorbar": {
              "outlinewidth": 0,
              "ticks": ""
             }
            },
            "type": "scatter"
           }
          ],
          "scatter3d": [
           {
            "line": {
             "colorbar": {
              "outlinewidth": 0,
              "ticks": ""
             }
            },
            "marker": {
             "colorbar": {
              "outlinewidth": 0,
              "ticks": ""
             }
            },
            "type": "scatter3d"
           }
          ],
          "scattercarpet": [
           {
            "marker": {
             "colorbar": {
              "outlinewidth": 0,
              "ticks": ""
             }
            },
            "type": "scattercarpet"
           }
          ],
          "scattergeo": [
           {
            "marker": {
             "colorbar": {
              "outlinewidth": 0,
              "ticks": ""
             }
            },
            "type": "scattergeo"
           }
          ],
          "scattergl": [
           {
            "marker": {
             "colorbar": {
              "outlinewidth": 0,
              "ticks": ""
             }
            },
            "type": "scattergl"
           }
          ],
          "scattermapbox": [
           {
            "marker": {
             "colorbar": {
              "outlinewidth": 0,
              "ticks": ""
             }
            },
            "type": "scattermapbox"
           }
          ],
          "scatterpolar": [
           {
            "marker": {
             "colorbar": {
              "outlinewidth": 0,
              "ticks": ""
             }
            },
            "type": "scatterpolar"
           }
          ],
          "scatterpolargl": [
           {
            "marker": {
             "colorbar": {
              "outlinewidth": 0,
              "ticks": ""
             }
            },
            "type": "scatterpolargl"
           }
          ],
          "scatterternary": [
           {
            "marker": {
             "colorbar": {
              "outlinewidth": 0,
              "ticks": ""
             }
            },
            "type": "scatterternary"
           }
          ],
          "surface": [
           {
            "colorbar": {
             "outlinewidth": 0,
             "ticks": ""
            },
            "colorscale": [
             [
              0,
              "#0d0887"
             ],
             [
              0.1111111111111111,
              "#46039f"
             ],
             [
              0.2222222222222222,
              "#7201a8"
             ],
             [
              0.3333333333333333,
              "#9c179e"
             ],
             [
              0.4444444444444444,
              "#bd3786"
             ],
             [
              0.5555555555555556,
              "#d8576b"
             ],
             [
              0.6666666666666666,
              "#ed7953"
             ],
             [
              0.7777777777777778,
              "#fb9f3a"
             ],
             [
              0.8888888888888888,
              "#fdca26"
             ],
             [
              1,
              "#f0f921"
             ]
            ],
            "type": "surface"
           }
          ],
          "table": [
           {
            "cells": {
             "fill": {
              "color": "#EBF0F8"
             },
             "line": {
              "color": "white"
             }
            },
            "header": {
             "fill": {
              "color": "#C8D4E3"
             },
             "line": {
              "color": "white"
             }
            },
            "type": "table"
           }
          ]
         },
         "layout": {
          "annotationdefaults": {
           "arrowcolor": "#2a3f5f",
           "arrowhead": 0,
           "arrowwidth": 1
          },
          "autotypenumbers": "strict",
          "coloraxis": {
           "colorbar": {
            "outlinewidth": 0,
            "ticks": ""
           }
          },
          "colorscale": {
           "diverging": [
            [
             0,
             "#8e0152"
            ],
            [
             0.1,
             "#c51b7d"
            ],
            [
             0.2,
             "#de77ae"
            ],
            [
             0.3,
             "#f1b6da"
            ],
            [
             0.4,
             "#fde0ef"
            ],
            [
             0.5,
             "#f7f7f7"
            ],
            [
             0.6,
             "#e6f5d0"
            ],
            [
             0.7,
             "#b8e186"
            ],
            [
             0.8,
             "#7fbc41"
            ],
            [
             0.9,
             "#4d9221"
            ],
            [
             1,
             "#276419"
            ]
           ],
           "sequential": [
            [
             0,
             "#0d0887"
            ],
            [
             0.1111111111111111,
             "#46039f"
            ],
            [
             0.2222222222222222,
             "#7201a8"
            ],
            [
             0.3333333333333333,
             "#9c179e"
            ],
            [
             0.4444444444444444,
             "#bd3786"
            ],
            [
             0.5555555555555556,
             "#d8576b"
            ],
            [
             0.6666666666666666,
             "#ed7953"
            ],
            [
             0.7777777777777778,
             "#fb9f3a"
            ],
            [
             0.8888888888888888,
             "#fdca26"
            ],
            [
             1,
             "#f0f921"
            ]
           ],
           "sequentialminus": [
            [
             0,
             "#0d0887"
            ],
            [
             0.1111111111111111,
             "#46039f"
            ],
            [
             0.2222222222222222,
             "#7201a8"
            ],
            [
             0.3333333333333333,
             "#9c179e"
            ],
            [
             0.4444444444444444,
             "#bd3786"
            ],
            [
             0.5555555555555556,
             "#d8576b"
            ],
            [
             0.6666666666666666,
             "#ed7953"
            ],
            [
             0.7777777777777778,
             "#fb9f3a"
            ],
            [
             0.8888888888888888,
             "#fdca26"
            ],
            [
             1,
             "#f0f921"
            ]
           ]
          },
          "colorway": [
           "#636efa",
           "#EF553B",
           "#00cc96",
           "#ab63fa",
           "#FFA15A",
           "#19d3f3",
           "#FF6692",
           "#B6E880",
           "#FF97FF",
           "#FECB52"
          ],
          "font": {
           "color": "#2a3f5f"
          },
          "geo": {
           "bgcolor": "white",
           "lakecolor": "white",
           "landcolor": "#E5ECF6",
           "showlakes": true,
           "showland": true,
           "subunitcolor": "white"
          },
          "hoverlabel": {
           "align": "left"
          },
          "hovermode": "closest",
          "mapbox": {
           "style": "light"
          },
          "paper_bgcolor": "white",
          "plot_bgcolor": "#E5ECF6",
          "polar": {
           "angularaxis": {
            "gridcolor": "white",
            "linecolor": "white",
            "ticks": ""
           },
           "bgcolor": "#E5ECF6",
           "radialaxis": {
            "gridcolor": "white",
            "linecolor": "white",
            "ticks": ""
           }
          },
          "scene": {
           "xaxis": {
            "backgroundcolor": "#E5ECF6",
            "gridcolor": "white",
            "gridwidth": 2,
            "linecolor": "white",
            "showbackground": true,
            "ticks": "",
            "zerolinecolor": "white"
           },
           "yaxis": {
            "backgroundcolor": "#E5ECF6",
            "gridcolor": "white",
            "gridwidth": 2,
            "linecolor": "white",
            "showbackground": true,
            "ticks": "",
            "zerolinecolor": "white"
           },
           "zaxis": {
            "backgroundcolor": "#E5ECF6",
            "gridcolor": "white",
            "gridwidth": 2,
            "linecolor": "white",
            "showbackground": true,
            "ticks": "",
            "zerolinecolor": "white"
           }
          },
          "shapedefaults": {
           "line": {
            "color": "#2a3f5f"
           }
          },
          "ternary": {
           "aaxis": {
            "gridcolor": "white",
            "linecolor": "white",
            "ticks": ""
           },
           "baxis": {
            "gridcolor": "white",
            "linecolor": "white",
            "ticks": ""
           },
           "bgcolor": "#E5ECF6",
           "caxis": {
            "gridcolor": "white",
            "linecolor": "white",
            "ticks": ""
           }
          },
          "title": {
           "x": 0.05
          },
          "xaxis": {
           "automargin": true,
           "gridcolor": "white",
           "linecolor": "white",
           "ticks": "",
           "title": {
            "standoff": 15
           },
           "zerolinecolor": "white",
           "zerolinewidth": 2
          },
          "yaxis": {
           "automargin": true,
           "gridcolor": "white",
           "linecolor": "white",
           "ticks": "",
           "title": {
            "standoff": 15
           },
           "zerolinecolor": "white",
           "zerolinewidth": 2
          }
         }
        },
        "title": {
         "text": "Phone Average Sale Price"
        },
        "xaxis": {
         "title": {
          "text": "Price"
         }
        },
        "yaxis": {
         "categoryorder": "total ascending",
         "title": {
          "text": "Model"
         }
        }
       }
      }
     },
     "metadata": {},
     "output_type": "display_data"
    },
    {
     "data": {
      "application/javascript": "\n            setTimeout(function() {\n                var nbb_cell_id = 124;\n                var nbb_unformatted_code = \"df3 = df.loc[df['Sold']=='Yes'].groupby('Model').Price.mean()\\n\\nimport plotly.graph_objects as go\\n\\nfig = go.Figure(go.Bar(\\n    orientation=\\\"h\\\",\\n    x = df3.values,\\n    y = df3.index))\\n\\nfig.update_layout(\\n    autosize=False,\\n    height=600,\\n    yaxis={'categoryorder':'total ascending', 'title':'Model'},\\n    xaxis={'title':'Price'},\\n    title='Phone Average Sale Price',\\n)\\n\\nfig.show()\";\n                var nbb_formatted_code = \"df3 = df.loc[df[\\\"Sold\\\"] == \\\"Yes\\\"].groupby(\\\"Model\\\").Price.mean()\\n\\nimport plotly.graph_objects as go\\n\\nfig = go.Figure(go.Bar(orientation=\\\"h\\\", x=df3.values, y=df3.index))\\n\\nfig.update_layout(\\n    autosize=False,\\n    height=600,\\n    yaxis={\\\"categoryorder\\\": \\\"total ascending\\\", \\\"title\\\": \\\"Model\\\"},\\n    xaxis={\\\"title\\\": \\\"Price\\\"},\\n    title=\\\"Phone Average Sale Price\\\",\\n)\\n\\nfig.show()\";\n                var nbb_cells = Jupyter.notebook.get_cells();\n                for (var i = 0; i < nbb_cells.length; ++i) {\n                    if (nbb_cells[i].input_prompt_number == nbb_cell_id) {\n                        if (nbb_cells[i].get_text() == nbb_unformatted_code) {\n                             nbb_cells[i].set_text(nbb_formatted_code);\n                        }\n                        break;\n                    }\n                }\n            }, 500);\n            ",
      "text/plain": [
       "<IPython.core.display.Javascript object>"
      ]
     },
     "metadata": {},
     "output_type": "display_data"
    }
   ],
   "source": [
    "df3 = df.loc[df['Sold']=='Yes'].groupby('Model').Price.mean()\n",
    "\n",
    "import plotly.graph_objects as go\n",
    "\n",
    "fig = go.Figure(go.Bar(\n",
    "    orientation=\"h\",\n",
    "    x = df3.values,\n",
    "    y = df3.index))\n",
    "\n",
    "fig.update_layout(\n",
    "    autosize=False,\n",
    "    height=600,\n",
    "    yaxis={'categoryorder':'total ascending', 'title':'Model'},\n",
    "    xaxis={'title':'Price'},\n",
    "    title='Phone Average Sale Price',\n",
    ")\n",
    "\n",
    "fig.show()"
   ]
  },
  {
   "cell_type": "code",
   "execution_count": 105,
   "metadata": {},
   "outputs": [
    {
     "data": {
      "application/javascript": "\n            setTimeout(function() {\n                var nbb_cell_id = 105;\n                var nbb_unformatted_code = \"# One Hot Encoding categorical variables\\nfor cols in cat:\\n    df = encode_and_bind(df, cols)\";\n                var nbb_formatted_code = \"# One Hot Encoding categorical variables\\nfor cols in cat:\\n    df = encode_and_bind(df, cols)\";\n                var nbb_cells = Jupyter.notebook.get_cells();\n                for (var i = 0; i < nbb_cells.length; ++i) {\n                    if (nbb_cells[i].input_prompt_number == nbb_cell_id) {\n                        if (nbb_cells[i].get_text() == nbb_unformatted_code) {\n                             nbb_cells[i].set_text(nbb_formatted_code);\n                        }\n                        break;\n                    }\n                }\n            }, 500);\n            ",
      "text/plain": [
       "<IPython.core.display.Javascript object>"
      ]
     },
     "metadata": {},
     "output_type": "display_data"
    }
   ],
   "source": [
    "# One Hot Encoding categorical variables\n",
    "for cols in cat:\n",
    "    df = encode_and_bind(df, cols)"
   ]
  },
  {
   "cell_type": "markdown",
   "metadata": {},
   "source": [
    "### 3. Linear Regression and XGBoost"
   ]
  },
  {
   "cell_type": "code",
   "execution_count": 106,
   "metadata": {},
   "outputs": [
    {
     "name": "stdout",
     "output_type": "stream",
     "text": [
      "Mean MAE: 36.971 (0.692)\n"
     ]
    },
    {
     "data": {
      "application/javascript": "\n            setTimeout(function() {\n                var nbb_cell_id = 106;\n                var nbb_unformatted_code = \"# Quick and dirty version excluding dates\\nX, y = df.drop(['Price','ListDate', 'SaleDate'], axis=1), df['Price']\\n\\n# Setup for our regression\\n# X_train, X_test, y_train, y_test = train_test_split(X, y, test_size=0.2, random_state=21)\\n# sc = StandardScaler()\\n# X_train = sc.fit_transform(X_train)\\n# X_test = sc.transform(X_test)\\n\\n# Setting up cross validation\\ncv = RepeatedKFold(n_splits=5, n_repeats=10, random_state=21)\\n\\n# Quicker Pipeline method\\nlinear_pipeline = Pipeline([('scaler', StandardScaler()),('model', LinearRegression())])\\n# Cross validation \\nlinear_scores = cross_val_score(linear_pipeline, X, y, scoring='neg_mean_absolute_error', cv=cv, n_jobs=-1)\\n# force scores to be positive\\nlinear_scores = np.abs(linear_scores)\\nprint('Mean MAE: %.3f (%.3f)' % (linear_scores.mean(), linear_scores.std()))\";\n                var nbb_formatted_code = \"# Quick and dirty version excluding dates\\nX, y = df.drop([\\\"Price\\\", \\\"ListDate\\\", \\\"SaleDate\\\"], axis=1), df[\\\"Price\\\"]\\n\\n# Setup for our regression\\n# X_train, X_test, y_train, y_test = train_test_split(X, y, test_size=0.2, random_state=21)\\n# sc = StandardScaler()\\n# X_train = sc.fit_transform(X_train)\\n# X_test = sc.transform(X_test)\\n\\n# Setting up cross validation\\ncv = RepeatedKFold(n_splits=5, n_repeats=10, random_state=21)\\n\\n# Quicker Pipeline method\\nlinear_pipeline = Pipeline(\\n    [(\\\"scaler\\\", StandardScaler()), (\\\"model\\\", LinearRegression())]\\n)\\n# Cross validation\\nlinear_scores = cross_val_score(\\n    linear_pipeline, X, y, scoring=\\\"neg_mean_absolute_error\\\", cv=cv, n_jobs=-1\\n)\\n# force scores to be positive\\nlinear_scores = np.abs(linear_scores)\\nprint(\\\"Mean MAE: %.3f (%.3f)\\\" % (linear_scores.mean(), linear_scores.std()))\";\n                var nbb_cells = Jupyter.notebook.get_cells();\n                for (var i = 0; i < nbb_cells.length; ++i) {\n                    if (nbb_cells[i].input_prompt_number == nbb_cell_id) {\n                        if (nbb_cells[i].get_text() == nbb_unformatted_code) {\n                             nbb_cells[i].set_text(nbb_formatted_code);\n                        }\n                        break;\n                    }\n                }\n            }, 500);\n            ",
      "text/plain": [
       "<IPython.core.display.Javascript object>"
      ]
     },
     "metadata": {},
     "output_type": "display_data"
    }
   ],
   "source": [
    "# Quick and dirty version excluding dates\n",
    "X, y = df.drop(['Price','ListDate', 'SaleDate'], axis=1), df['Price']\n",
    "\n",
    "# Setup for our regression\n",
    "# X_train, X_test, y_train, y_test = train_test_split(X, y, test_size=0.2, random_state=21)\n",
    "# sc = StandardScaler()\n",
    "# X_train = sc.fit_transform(X_train)\n",
    "# X_test = sc.transform(X_test)\n",
    "\n",
    "# Setting up cross validation\n",
    "cv = RepeatedKFold(n_splits=5, n_repeats=10, random_state=21)\n",
    "\n",
    "# Quicker Pipeline method\n",
    "linear_pipeline = Pipeline([('scaler', StandardScaler()),('model', LinearRegression())])\n",
    "# Cross validation \n",
    "linear_scores = cross_val_score(linear_pipeline, X, y, scoring='neg_mean_absolute_error', cv=cv, n_jobs=-1)\n",
    "# force scores to be positive\n",
    "linear_scores = np.abs(linear_scores)\n",
    "print('Mean MAE: %.3f (%.3f)' % (linear_scores.mean(), linear_scores.std()))"
   ]
  },
  {
   "cell_type": "code",
   "execution_count": 107,
   "metadata": {},
   "outputs": [
    {
     "name": "stdout",
     "output_type": "stream",
     "text": [
      "Mean MAE: 31.419 (0.700)\n"
     ]
    },
    {
     "data": {
      "application/javascript": "\n            setTimeout(function() {\n                var nbb_cell_id = 107;\n                var nbb_unformatted_code = \"\\n# Setup pipeline to feed model\\nxg_pipeline = Pipeline([('scaler', StandardScaler()),('model', XGBRegressor())])\\n# Evaluation methodology\\nxg_scores = cross_val_score(xg_pipeline, X, y, scoring='neg_mean_absolute_error', cv=cv, n_jobs=-1)\\n# force scores to be positive\\nxg_scores = np.abs(xg_scores)\\nprint('Mean MAE: %.3f (%.3f)' % (xg_scores.mean(), xg_scores.std()))\";\n                var nbb_formatted_code = \"# Setup pipeline to feed model\\nxg_pipeline = Pipeline([(\\\"scaler\\\", StandardScaler()), (\\\"model\\\", XGBRegressor())])\\n# Evaluation methodology\\nxg_scores = cross_val_score(\\n    xg_pipeline, X, y, scoring=\\\"neg_mean_absolute_error\\\", cv=cv, n_jobs=-1\\n)\\n# force scores to be positive\\nxg_scores = np.abs(xg_scores)\\nprint(\\\"Mean MAE: %.3f (%.3f)\\\" % (xg_scores.mean(), xg_scores.std()))\";\n                var nbb_cells = Jupyter.notebook.get_cells();\n                for (var i = 0; i < nbb_cells.length; ++i) {\n                    if (nbb_cells[i].input_prompt_number == nbb_cell_id) {\n                        if (nbb_cells[i].get_text() == nbb_unformatted_code) {\n                             nbb_cells[i].set_text(nbb_formatted_code);\n                        }\n                        break;\n                    }\n                }\n            }, 500);\n            ",
      "text/plain": [
       "<IPython.core.display.Javascript object>"
      ]
     },
     "metadata": {},
     "output_type": "display_data"
    }
   ],
   "source": [
    "\n",
    "# Setup pipeline to feed model\n",
    "xg_pipeline = Pipeline([('scaler', StandardScaler()),('model', XGBRegressor())])\n",
    "# Evaluation methodology\n",
    "xg_scores = cross_val_score(xg_pipeline, X, y, scoring='neg_mean_absolute_error', cv=cv, n_jobs=-1)\n",
    "# force scores to be positive\n",
    "xg_scores = np.abs(xg_scores)\n",
    "print('Mean MAE: %.3f (%.3f)' % (xg_scores.mean(), xg_scores.std()))"
   ]
  },
  {
   "cell_type": "markdown",
   "metadata": {},
   "source": [
    "Interesting to note that our simple Linear Regression model is outperforming XGBoost. "
   ]
  },
  {
   "cell_type": "markdown",
   "metadata": {},
   "source": [
    "### 4. Attempts to improve score\n",
    "* Remove some of the less popular models (OnePlus)\n",
    "* Remove Colors"
   ]
  },
  {
   "cell_type": "code",
   "execution_count": 108,
   "metadata": {},
   "outputs": [
    {
     "data": {
      "application/javascript": "\n            setTimeout(function() {\n                var nbb_cell_id = 108;\n                var nbb_unformatted_code = \"df2 = df2.drop(['Color', 'SaleDate', 'ListDate', 'Quantity', 'Views'], axis=1)\\ndf2 = df2[df2['Model'].str.contains('Apple|Samsung')]\\ndf2 = df2[df2['Condition'].str.contains('Mint|Good')]\";\n                var nbb_formatted_code = \"df2 = df2.drop([\\\"Color\\\", \\\"SaleDate\\\", \\\"ListDate\\\", \\\"Quantity\\\", \\\"Views\\\"], axis=1)\\ndf2 = df2[df2[\\\"Model\\\"].str.contains(\\\"Apple|Samsung\\\")]\\ndf2 = df2[df2[\\\"Condition\\\"].str.contains(\\\"Mint|Good\\\")]\";\n                var nbb_cells = Jupyter.notebook.get_cells();\n                for (var i = 0; i < nbb_cells.length; ++i) {\n                    if (nbb_cells[i].input_prompt_number == nbb_cell_id) {\n                        if (nbb_cells[i].get_text() == nbb_unformatted_code) {\n                             nbb_cells[i].set_text(nbb_formatted_code);\n                        }\n                        break;\n                    }\n                }\n            }, 500);\n            ",
      "text/plain": [
       "<IPython.core.display.Javascript object>"
      ]
     },
     "metadata": {},
     "output_type": "display_data"
    }
   ],
   "source": [
    "df2 = df2.drop(['Color', 'SaleDate', 'ListDate', 'Quantity', 'Views'], axis=1)\n",
    "df2 = df2[df2['Model'].str.contains('Apple|Samsung')]\n",
    "df2 = df2[df2['Condition'].str.contains('Mint|Good')]"
   ]
  },
  {
   "cell_type": "code",
   "execution_count": 109,
   "metadata": {},
   "outputs": [
    {
     "data": {
      "application/javascript": "\n            setTimeout(function() {\n                var nbb_cell_id = 109;\n                var nbb_unformatted_code = \"# One Hot Encoding categorical variables\\ncat2 = df2.select_dtypes(include=['object']).columns.tolist()\\nfor cols in cat2:\\n    df2 = encode_and_bind(df2, cols)\";\n                var nbb_formatted_code = \"# One Hot Encoding categorical variables\\ncat2 = df2.select_dtypes(include=[\\\"object\\\"]).columns.tolist()\\nfor cols in cat2:\\n    df2 = encode_and_bind(df2, cols)\";\n                var nbb_cells = Jupyter.notebook.get_cells();\n                for (var i = 0; i < nbb_cells.length; ++i) {\n                    if (nbb_cells[i].input_prompt_number == nbb_cell_id) {\n                        if (nbb_cells[i].get_text() == nbb_unformatted_code) {\n                             nbb_cells[i].set_text(nbb_formatted_code);\n                        }\n                        break;\n                    }\n                }\n            }, 500);\n            ",
      "text/plain": [
       "<IPython.core.display.Javascript object>"
      ]
     },
     "metadata": {},
     "output_type": "display_data"
    }
   ],
   "source": [
    "# One Hot Encoding categorical variables\n",
    "cat2 = df2.select_dtypes(include=['object']).columns.tolist()\n",
    "for cols in cat2:\n",
    "    df2 = encode_and_bind(df2, cols)"
   ]
  },
  {
   "cell_type": "code",
   "execution_count": 110,
   "metadata": {},
   "outputs": [
    {
     "data": {
      "application/javascript": "\n            setTimeout(function() {\n                var nbb_cell_id = 110;\n                var nbb_unformatted_code = \"X2, y2 = df2.drop(['Price'], axis=1), df2['Price']\";\n                var nbb_formatted_code = \"X2, y2 = df2.drop([\\\"Price\\\"], axis=1), df2[\\\"Price\\\"]\";\n                var nbb_cells = Jupyter.notebook.get_cells();\n                for (var i = 0; i < nbb_cells.length; ++i) {\n                    if (nbb_cells[i].input_prompt_number == nbb_cell_id) {\n                        if (nbb_cells[i].get_text() == nbb_unformatted_code) {\n                             nbb_cells[i].set_text(nbb_formatted_code);\n                        }\n                        break;\n                    }\n                }\n            }, 500);\n            ",
      "text/plain": [
       "<IPython.core.display.Javascript object>"
      ]
     },
     "metadata": {},
     "output_type": "display_data"
    }
   ],
   "source": [
    "X2, y2 = df2.drop(['Price'], axis=1), df2['Price']"
   ]
  },
  {
   "cell_type": "code",
   "execution_count": 111,
   "metadata": {},
   "outputs": [
    {
     "name": "stdout",
     "output_type": "stream",
     "text": [
      "Mean MAE: 37.702 (0.850)\n"
     ]
    },
    {
     "data": {
      "application/javascript": "\n            setTimeout(function() {\n                var nbb_cell_id = 111;\n                var nbb_unformatted_code = \"# Quicker Pipeline method\\nlinear_pipeline = Pipeline([('scaler', StandardScaler()),('model', LinearRegression())])\\n# Cross validation \\nlinear_scores = cross_val_score(linear_pipeline, X2, y2, scoring='neg_mean_absolute_error', cv=cv, n_jobs=-1)\\n# force scores to be positive\\nlinear_scores = np.abs(linear_scores)\\nprint('Mean MAE: %.3f (%.3f)' % (linear_scores.mean(), linear_scores.std()))\";\n                var nbb_formatted_code = \"# Quicker Pipeline method\\nlinear_pipeline = Pipeline(\\n    [(\\\"scaler\\\", StandardScaler()), (\\\"model\\\", LinearRegression())]\\n)\\n# Cross validation\\nlinear_scores = cross_val_score(\\n    linear_pipeline, X2, y2, scoring=\\\"neg_mean_absolute_error\\\", cv=cv, n_jobs=-1\\n)\\n# force scores to be positive\\nlinear_scores = np.abs(linear_scores)\\nprint(\\\"Mean MAE: %.3f (%.3f)\\\" % (linear_scores.mean(), linear_scores.std()))\";\n                var nbb_cells = Jupyter.notebook.get_cells();\n                for (var i = 0; i < nbb_cells.length; ++i) {\n                    if (nbb_cells[i].input_prompt_number == nbb_cell_id) {\n                        if (nbb_cells[i].get_text() == nbb_unformatted_code) {\n                             nbb_cells[i].set_text(nbb_formatted_code);\n                        }\n                        break;\n                    }\n                }\n            }, 500);\n            ",
      "text/plain": [
       "<IPython.core.display.Javascript object>"
      ]
     },
     "metadata": {},
     "output_type": "display_data"
    }
   ],
   "source": [
    "# Quicker Pipeline method\n",
    "linear_pipeline = Pipeline([('scaler', StandardScaler()),('model', LinearRegression())])\n",
    "# Cross validation \n",
    "linear_scores = cross_val_score(linear_pipeline, X2, y2, scoring='neg_mean_absolute_error', cv=cv, n_jobs=-1)\n",
    "# force scores to be positive\n",
    "linear_scores = np.abs(linear_scores)\n",
    "print('Mean MAE: %.3f (%.3f)' % (linear_scores.mean(), linear_scores.std()))"
   ]
  },
  {
   "cell_type": "code",
   "execution_count": 112,
   "metadata": {},
   "outputs": [
    {
     "name": "stdout",
     "output_type": "stream",
     "text": [
      "Mean MAE: 34.957 (0.843)\n"
     ]
    },
    {
     "data": {
      "application/javascript": "\n            setTimeout(function() {\n                var nbb_cell_id = 112;\n                var nbb_unformatted_code = \"# Setup pipeline to feed model\\nxg_pipeline = Pipeline([('scaler', StandardScaler()),('model', XGBRegressor())])\\n# Evaluation methodology\\nxg_scores = cross_val_score(xg_pipeline, X2, y2, scoring='neg_mean_absolute_error', cv=cv, n_jobs=-1)\\n# force scores to be positive\\nxg_scores = np.abs(xg_scores)\\nprint('Mean MAE: %.3f (%.3f)' % (xg_scores.mean(), xg_scores.std()))\";\n                var nbb_formatted_code = \"# Setup pipeline to feed model\\nxg_pipeline = Pipeline([(\\\"scaler\\\", StandardScaler()), (\\\"model\\\", XGBRegressor())])\\n# Evaluation methodology\\nxg_scores = cross_val_score(\\n    xg_pipeline, X2, y2, scoring=\\\"neg_mean_absolute_error\\\", cv=cv, n_jobs=-1\\n)\\n# force scores to be positive\\nxg_scores = np.abs(xg_scores)\\nprint(\\\"Mean MAE: %.3f (%.3f)\\\" % (xg_scores.mean(), xg_scores.std()))\";\n                var nbb_cells = Jupyter.notebook.get_cells();\n                for (var i = 0; i < nbb_cells.length; ++i) {\n                    if (nbb_cells[i].input_prompt_number == nbb_cell_id) {\n                        if (nbb_cells[i].get_text() == nbb_unformatted_code) {\n                             nbb_cells[i].set_text(nbb_formatted_code);\n                        }\n                        break;\n                    }\n                }\n            }, 500);\n            ",
      "text/plain": [
       "<IPython.core.display.Javascript object>"
      ]
     },
     "metadata": {},
     "output_type": "display_data"
    }
   ],
   "source": [
    "# Setup pipeline to feed model\n",
    "xg_pipeline = Pipeline([('scaler', StandardScaler()),('model', XGBRegressor())])\n",
    "# Evaluation methodology\n",
    "xg_scores = cross_val_score(xg_pipeline, X2, y2, scoring='neg_mean_absolute_error', cv=cv, n_jobs=-1)\n",
    "# force scores to be positive\n",
    "xg_scores = np.abs(xg_scores)\n",
    "print('Mean MAE: %.3f (%.3f)' % (xg_scores.mean(), xg_scores.std()))"
   ]
  },
  {
   "cell_type": "markdown",
   "metadata": {},
   "source": [
    "Slight improvement but model is also less useful."
   ]
  }
 ],
 "metadata": {
  "interpreter": {
   "hash": "ecf5722fdaf1897a315d257d89d94520bfcaa453217d5becf09b39e73618b0de"
  },
  "kernelspec": {
   "display_name": "Python 3.8.6 64-bit ('scraper')",
   "language": "python",
   "name": "python3"
  },
  "language_info": {
   "codemirror_mode": {
    "name": "ipython",
    "version": 3
   },
   "file_extension": ".py",
   "mimetype": "text/x-python",
   "name": "python",
   "nbconvert_exporter": "python",
   "pygments_lexer": "ipython3",
   "version": "3.9.7"
  },
  "orig_nbformat": 2
 },
 "nbformat": 4,
 "nbformat_minor": 2
}
