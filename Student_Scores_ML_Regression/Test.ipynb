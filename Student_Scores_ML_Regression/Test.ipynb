{
 "cells": [
  {
   "cell_type": "code",
   "execution_count": null,
   "metadata": {},
   "outputs": [],
   "source": [
    "import pandas as pd \n",
    "import numpy as np\n",
    "import tensorflow\n",
    "import sklearn\n",
    "from sklearn import linear_model\n",
    "from sklearn.utils import shuffle\n",
    "import plotly.express as px"
   ]
  },
  {
   "cell_type": "code",
   "execution_count": null,
   "metadata": {},
   "outputs": [],
   "source": [
    "data = pd.read_csv(\"student-mat.csv\", sep=\";\")"
   ]
  },
  {
   "cell_type": "markdown",
   "execution_count": null,
   "metadata": {},
   "outputs": [],
   "source": [
    "Importing sample student data and selecting primary non-binary attributes to model data"
   ]
  },
  {
   "cell_type": "code",
   "execution_count": null,
   "metadata": {},
   "outputs": [],
   "source": [
    "data = data[[\"G1\",\"G2\",\"G3\",\"studytime\",\"failures\",\"absences\",\"age\"]]"
   ]
  },
  {
   "cell_type": "markdown",
   "execution_count": null,
   "metadata": {},
   "outputs": [],
   "source": [
    "We are trying to predict final grade (\"G3\"), which is scored on a scale from 1-20. Obviouisly we don't want to include that variable that we are trying to predict within our regression so two arrays are created. "
   ]
  },
  {
   "cell_type": "code",
   "execution_count": null,
   "metadata": {},
   "outputs": [],
   "source": [
    "predict = \"G3\"\n",
    "x = np.array(data.drop([predict], 1))\n",
    "y = np.array(data[predict])\n",
    "x_train, x_test, y_train, y_test = sklearn.model_selection.train_test_split(x, y, test_size = 0.1)"
   ]
  },
  {
   "cell_type": "code",
   "execution_count": null,
   "metadata": {},
   "outputs": [],
   "source": [
    "linear = linear_model.LinearRegression()"
   ]
  },
  {
   "cell_type": "markdown",
   "execution_count": null,
   "metadata": {},
   "outputs": [],
   "source": [
    "Using first period grade(\"G1\"), second period grade(\"G2\"), attendance, studytime, and number of past failures per student we could account a % of the variance. "
   ]
  },
  {
   "cell_type": "code",
   "execution_count": null,
   "metadata": {},
   "outputs": [],
   "source": [
    "linear.fit(x_train, y_train)\n",
    "acc = linear.score(x_test, y_test)\n",
    "print(acc)"
   ]
  },
  {
   "cell_type": "markdown",
   "execution_count": 40,
   "metadata": {},
   "outputs": [
    {
     "name": "stdout",
     "output_type": "stream",
     "text": "10.18404480680528 [ 8 11  2  0  0] 11\n16.376617250090945 [17 16  2  0  0] 17\n14.202779330788662 [14 14  1  0  2] 13\n8.548460531311912 [10  9  2  0  0] 9\n10.757477116683775 [13 11  2  1  3] 11\n7.9488892733726075 [6 9 1 1 4] 8\n7.928318656175636 [10  8  1  0  6] 11\n3.662805231094513 [6 5 1 2 0] 0\n15.175487153213837 [15 15  2  0  2] 16\n15.092665159019447 [14 15  2  0  4] 15\n10.703715414415726 [11 11  1  1  6] 10\n14.274873021272763 [15 14  2  0  4] 14\n18.810883718066794 [18 18  1  0  6] 18\n16.293795255896555 [16 16  2  0  2] 17\n12.03359911369685 [12 12  1  0  4] 13\n8.257259970796824 [10  9  4  0  0] 0\n10.551996760014942 [10 11  2  0  2] 12\n8.638886210012062 [10  9  3  0  7] 9\n14.8749711882778 [13 15  2  0  2] 16\n10.334302789273298 [ 9 11  2  0  0] 12\n11.059478391982331 [13 11  3  0  8] 11\n9.37091037126907 [10 10  3  0  0] 9\n11.753126856892052 [12 12  2  0  0] 11\n6.446716302493728 [8 7 2 0 4] 6\n8.470296239327993 [10  9  3  0  2] 10\n11.470164923123912 [12 11  1  0 16] 11\n8.548460531311912 [10  9  2  0  0] 0\n8.470296239327993 [10  9  3  0  2] 8\n11.955434821712934 [12 12  2  0  6] 12\n10.613362146788754 [11 11  4  0  8] 10\n12.343957392119568 [10 13  2  1  6] 13\n-0.7603647782820018 [7 0 3 0 0] 0\n12.225178774807445 [12 12  2  0 14] 12\n5.946060397983945 [ 7  6  1  0 18] 6\n10.00860627757324 [12 10  3  0 10] 12\n14.661934919746631 [13 15  3  0  0] 15\n8.345949291152033 [ 9  9  2  2 15] 9\n12.961860638274922 [13 13  3  0  7] 14\n7.798104381838854 [11  8  2  0  2] 8\n6.779238541651392 [ 7  7  1  0 14] 5\n"
    }
   ],
   "source": [
    "score_predict = linear.predict(x_test)\n",
    "for i in range(len(score_predict)):\n",
    "    print(score_predict[i], x_test[i], y_test[i])"
   ]
  },
  {
   "cell_type": "markdown",
   "execution_count": null,
   "metadata": {},
   "outputs": [],
   "source": [
    "with open(\"studentscore.pickle\", \"wb\" ) as file:\n",
    "    pickle.dump(linear, file)"
   ]
  },
  {
   "cell_type": "code",
   "execution_count": null,
   "metadata": {},
   "outputs": [],
   "source": [
    "from sklearn.model_selection import KFold\n",
    "kf = KFold(n_splits=10)"
   ]
  },
  {
   "cell_type": "code",
   "execution_count": null,
   "metadata": {},
   "outputs": [],
   "source": [
    "average_accuracy = 0\n",
    "for train_index, test_index in kf.split(x):\n",
    "    x_train, x_test = x[train_index], x[test_index]\n",
    "    y_train, y_test = y[train_index], y[test_index]\n",
    "    linear.fit(x_train, y_train)\n",
    "    average_accuracy += linear.score(x_test,y_test)\n",
    "    print(linear.score(x_test,y_test))\n",
    "print(average_accuracy/10)"
   ]
  },
  {
   "cell_type": "code",
   "execution_count": null,
   "metadata": {},
   "outputs": [],
   "source": [
    "import plotly.graph_objects as go\n",
    "sampleChart = go.Figure()\n",
    "\n",
    "def create_trace(chartname, predictions, y_test, color):\n",
    "    chartname.add_trace(go.Scatter(\n",
    "        x = predictions,\n",
    "        y = y_test,\n",
    "        mode = 'markers',\n",
    "        marker_color = color\n",
    "    ))"
   ]
  },
  {
   "cell_type": "code",
   "execution_count": null,
   "metadata": {},
   "outputs": [],
   "source": [
    "colors = ['#00b6d6', '#00a7ce', '#0098c6', '#0088be', '#0079b6', '#006aae', '#015ba5', '#014c9d', '#013d95', '#012e8d', '#011e85', '#010f7d', '#010075']\n",
    "i = 0\n",
    "\n",
    "average_accuracy = 0\n",
    "for train_index, test_index in kf.split(x):\n",
    "    x_train, x_test = x[train_index], x[test_index]\n",
    "    y_train, y_test = y[train_index], y[test_index]\n",
    "    linear.fit(x_train, y_train)\n",
    "    acc = linear.score(x_test,y_test)\n",
    "    average_accuracy += acc\n",
    "    predictions = linear.predict(x_test)\n",
    "    create_trace(sampleChart, predictions, y_test, colors[i])\n",
    "    i += 1\n"
   ]
  },
  {
   "cell_type": "markdown",
   "execution_count": null,
   "metadata": {},
   "outputs": [],
   "source": [
    "After using K-Folds as cross validation we accounted for 81.7% of the variance with our predictor."
   ]
  },
  {
   "cell_type": "code",
   "execution_count": null,
   "metadata": {},
   "outputs": [],
   "source": [
    "print(average_accuracy/10)"
   ]
  },
  {
   "cell_type": "code",
   "execution_count": null,
   "metadata": {},
   "outputs": [],
   "source": [
    "sampleChart.update_layout(\n",
    "    title = \"Actual vs Predicted Scores\",\n",
    "    xaxis_title = \"Predicted Scores\",\n",
    "    yaxis_title = 'Actual Scores'\n",
    ")\n",
    "sampleChart.show()"
   ]
  },
  {
   "cell_type": "markdown",
   "execution_count": null,
   "metadata": {},
   "outputs": [],
   "source": [
    "PNG image since github cannot displya interactive plotly charts. "
   ]
  },
  {
   "cell_type": "code",
   "execution_count": null,
   "metadata": {},
   "outputs": [],
   "source": [
    "from IPython.display import Image\n",
    "Image(filename='C:\\\\Users\\\\ventu\\Python Projects\\\\Plot.png')"
   ]
  },
  {
   "cell_type": "markdown",
   "execution_count": null,
   "metadata": {},
   "outputs": [],
   "source": [
    "You can find the interactive version of the chart at https://plot.ly/~venturizhou/5/#/"
   ]
  },
  {
   "cell_type": "code",
   "execution_count": null,
   "metadata": {},
   "outputs": [],
   "source": [
    "from sklearn.ensemble import RandomForestRegressor\n",
    "rf = RandomForestRegressor(n_estimators=1000)\n",
    "\n",
    "rfChart = go.Figure()\n",
    "\n",
    "colors = ['#00b6d6', '#00a7ce', '#0098c6', '#0088be', '#0079b6', '#006aae', '#015ba5', '#014c9d', '#013d95', '#012e8d', '#011e85', '#010f7d', '#010075']\n",
    "i = 0\n",
    "\n",
    "average_accuracy = 0\n",
    "for train_index, test_index in kf.split(x):\n",
    "    x_train, x_test = x[train_index], x[test_index]\n",
    "    y_train, y_test = y[train_index], y[test_index]\n",
    "    rf.fit(x_train, y_train)\n",
    "    acc = rf.score(x_test,y_test)\n",
    "    average_accuracy += acc\n",
    "    predictions = rf.predict(x_test)\n",
    "    create_trace(rfChart, predictions, y_test, colors[i])\n",
    "    i += 1"
   ]
  },
  {
   "cell_type": "code",
   "execution_count": null,
   "metadata": {},
   "outputs": [],
   "source": [
    "Image(filename='RFPlot.png')\n",
    "rfChart.show()"
   ]
  },
  {
   "cell_type": "markdown",
   "execution_count": null,
   "metadata": {},
   "outputs": [],
   "source": [
    "R Squared of random forest regressor"
   ]
  },
  {
   "cell_type": "code",
   "execution_count": null,
   "metadata": {},
   "outputs": [],
   "source": [
    "average_accuracy/10"
   ]
  },
  {
   "cell_type": "code",
   "execution_count": null,
   "metadata": {},
   "outputs": [],
   "source": []
  }
 ],
 "metadata": {
  "file_extension": ".py",
  "kernelspec": {
   "display_name": "Python 3",
   "name": "python3"
  },
  "language_info": {
   "codemirror_mode": {
    "name": "ipython",
    "version": 3
   },
   "name": "python",
   "version": "3.7.6-final"
  },
  "mimetype": "text/x-python",
  "name": "python",
  "npconvert_exporter": "python",
  "pygments_lexer": "ipython3",
  "version": 3
 },
 "nbformat": 4,
 "nbformat_minor": 2
}
